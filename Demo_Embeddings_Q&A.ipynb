{
  "nbformat": 4,
  "nbformat_minor": 0,
  "metadata": {
    "colab": {
      "provenance": [],
      "authorship_tag": "ABX9TyPw0CIyhijaEOHAjKZqPXni"
    },
    "kernelspec": {
      "name": "python3",
      "display_name": "Python 3"
    },
    "language_info": {
      "name": "python"
    }
  },
  "cells": [
    {
      "cell_type": "code",
      "source": [
        "!pip install --upgrade google-cloud-aiplatform"
      ],
      "metadata": {
        "colab": {
          "base_uri": "https://localhost:8080/"
        },
        "collapsed": true,
        "id": "y5N-gbdhxY7g",
        "outputId": "4429295e-9f19-4bb4-af1d-109838623526"
      },
      "execution_count": null,
      "outputs": [
        {
          "output_type": "stream",
          "name": "stdout",
          "text": [
            "Requirement already satisfied: google-cloud-aiplatform in /usr/local/lib/python3.10/dist-packages (1.54.1)\n",
            "Requirement already satisfied: google-api-core[grpc]!=2.0.*,!=2.1.*,!=2.2.*,!=2.3.*,!=2.4.*,!=2.5.*,!=2.6.*,!=2.7.*,<3.0.0dev,>=1.34.1 in /usr/local/lib/python3.10/dist-packages (from google-cloud-aiplatform) (2.11.1)\n",
            "Requirement already satisfied: google-auth<3.0.0dev,>=2.14.1 in /usr/local/lib/python3.10/dist-packages (from google-cloud-aiplatform) (2.27.0)\n",
            "Requirement already satisfied: proto-plus<2.0.0dev,>=1.22.0 in /usr/local/lib/python3.10/dist-packages (from google-cloud-aiplatform) (1.23.0)\n",
            "Requirement already satisfied: protobuf!=3.20.0,!=3.20.1,!=4.21.0,!=4.21.1,!=4.21.2,!=4.21.3,!=4.21.4,!=4.21.5,<5.0.0dev,>=3.19.5 in /usr/local/lib/python3.10/dist-packages (from google-cloud-aiplatform) (3.20.3)\n",
            "Requirement already satisfied: packaging>=14.3 in /usr/local/lib/python3.10/dist-packages (from google-cloud-aiplatform) (24.0)\n",
            "Requirement already satisfied: google-cloud-storage<3.0.0dev,>=1.32.0 in /usr/local/lib/python3.10/dist-packages (from google-cloud-aiplatform) (2.8.0)\n",
            "Requirement already satisfied: google-cloud-bigquery!=3.20.0,<4.0.0dev,>=1.15.0 in /usr/local/lib/python3.10/dist-packages (from google-cloud-aiplatform) (3.21.0)\n",
            "Requirement already satisfied: google-cloud-resource-manager<3.0.0dev,>=1.3.3 in /usr/local/lib/python3.10/dist-packages (from google-cloud-aiplatform) (1.12.3)\n",
            "Requirement already satisfied: shapely<3.0.0dev in /usr/local/lib/python3.10/dist-packages (from google-cloud-aiplatform) (2.0.4)\n",
            "Requirement already satisfied: pydantic<3 in /usr/local/lib/python3.10/dist-packages (from google-cloud-aiplatform) (2.7.3)\n",
            "Requirement already satisfied: docstring-parser<1 in /usr/local/lib/python3.10/dist-packages (from google-cloud-aiplatform) (0.16)\n",
            "Requirement already satisfied: googleapis-common-protos<2.0.dev0,>=1.56.2 in /usr/local/lib/python3.10/dist-packages (from google-api-core[grpc]!=2.0.*,!=2.1.*,!=2.2.*,!=2.3.*,!=2.4.*,!=2.5.*,!=2.6.*,!=2.7.*,<3.0.0dev,>=1.34.1->google-cloud-aiplatform) (1.63.1)\n",
            "Requirement already satisfied: requests<3.0.0.dev0,>=2.18.0 in /usr/local/lib/python3.10/dist-packages (from google-api-core[grpc]!=2.0.*,!=2.1.*,!=2.2.*,!=2.3.*,!=2.4.*,!=2.5.*,!=2.6.*,!=2.7.*,<3.0.0dev,>=1.34.1->google-cloud-aiplatform) (2.31.0)\n",
            "Requirement already satisfied: grpcio<2.0dev,>=1.33.2 in /usr/local/lib/python3.10/dist-packages (from google-api-core[grpc]!=2.0.*,!=2.1.*,!=2.2.*,!=2.3.*,!=2.4.*,!=2.5.*,!=2.6.*,!=2.7.*,<3.0.0dev,>=1.34.1->google-cloud-aiplatform) (1.64.1)\n",
            "Requirement already satisfied: grpcio-status<2.0.dev0,>=1.33.2 in /usr/local/lib/python3.10/dist-packages (from google-api-core[grpc]!=2.0.*,!=2.1.*,!=2.2.*,!=2.3.*,!=2.4.*,!=2.5.*,!=2.6.*,!=2.7.*,<3.0.0dev,>=1.34.1->google-cloud-aiplatform) (1.48.2)\n",
            "Requirement already satisfied: cachetools<6.0,>=2.0.0 in /usr/local/lib/python3.10/dist-packages (from google-auth<3.0.0dev,>=2.14.1->google-cloud-aiplatform) (5.3.3)\n",
            "Requirement already satisfied: pyasn1-modules>=0.2.1 in /usr/local/lib/python3.10/dist-packages (from google-auth<3.0.0dev,>=2.14.1->google-cloud-aiplatform) (0.4.0)\n",
            "Requirement already satisfied: rsa<5,>=3.1.4 in /usr/local/lib/python3.10/dist-packages (from google-auth<3.0.0dev,>=2.14.1->google-cloud-aiplatform) (4.9)\n",
            "Requirement already satisfied: google-cloud-core<3.0.0dev,>=1.6.0 in /usr/local/lib/python3.10/dist-packages (from google-cloud-bigquery!=3.20.0,<4.0.0dev,>=1.15.0->google-cloud-aiplatform) (2.3.3)\n",
            "Requirement already satisfied: google-resumable-media<3.0dev,>=0.6.0 in /usr/local/lib/python3.10/dist-packages (from google-cloud-bigquery!=3.20.0,<4.0.0dev,>=1.15.0->google-cloud-aiplatform) (2.7.0)\n",
            "Requirement already satisfied: python-dateutil<3.0dev,>=2.7.2 in /usr/local/lib/python3.10/dist-packages (from google-cloud-bigquery!=3.20.0,<4.0.0dev,>=1.15.0->google-cloud-aiplatform) (2.8.2)\n",
            "Requirement already satisfied: grpc-google-iam-v1<1.0.0dev,>=0.12.4 in /usr/local/lib/python3.10/dist-packages (from google-cloud-resource-manager<3.0.0dev,>=1.3.3->google-cloud-aiplatform) (0.13.0)\n",
            "Requirement already satisfied: annotated-types>=0.4.0 in /usr/local/lib/python3.10/dist-packages (from pydantic<3->google-cloud-aiplatform) (0.7.0)\n",
            "Requirement already satisfied: pydantic-core==2.18.4 in /usr/local/lib/python3.10/dist-packages (from pydantic<3->google-cloud-aiplatform) (2.18.4)\n",
            "Requirement already satisfied: typing-extensions>=4.6.1 in /usr/local/lib/python3.10/dist-packages (from pydantic<3->google-cloud-aiplatform) (4.12.1)\n",
            "Requirement already satisfied: numpy<3,>=1.14 in /usr/local/lib/python3.10/dist-packages (from shapely<3.0.0dev->google-cloud-aiplatform) (1.25.2)\n",
            "Requirement already satisfied: google-crc32c<2.0dev,>=1.0 in /usr/local/lib/python3.10/dist-packages (from google-resumable-media<3.0dev,>=0.6.0->google-cloud-bigquery!=3.20.0,<4.0.0dev,>=1.15.0->google-cloud-aiplatform) (1.5.0)\n",
            "Requirement already satisfied: pyasn1<0.7.0,>=0.4.6 in /usr/local/lib/python3.10/dist-packages (from pyasn1-modules>=0.2.1->google-auth<3.0.0dev,>=2.14.1->google-cloud-aiplatform) (0.6.0)\n",
            "Requirement already satisfied: six>=1.5 in /usr/local/lib/python3.10/dist-packages (from python-dateutil<3.0dev,>=2.7.2->google-cloud-bigquery!=3.20.0,<4.0.0dev,>=1.15.0->google-cloud-aiplatform) (1.16.0)\n",
            "Requirement already satisfied: charset-normalizer<4,>=2 in /usr/local/lib/python3.10/dist-packages (from requests<3.0.0.dev0,>=2.18.0->google-api-core[grpc]!=2.0.*,!=2.1.*,!=2.2.*,!=2.3.*,!=2.4.*,!=2.5.*,!=2.6.*,!=2.7.*,<3.0.0dev,>=1.34.1->google-cloud-aiplatform) (3.3.2)\n",
            "Requirement already satisfied: idna<4,>=2.5 in /usr/local/lib/python3.10/dist-packages (from requests<3.0.0.dev0,>=2.18.0->google-api-core[grpc]!=2.0.*,!=2.1.*,!=2.2.*,!=2.3.*,!=2.4.*,!=2.5.*,!=2.6.*,!=2.7.*,<3.0.0dev,>=1.34.1->google-cloud-aiplatform) (3.7)\n",
            "Requirement already satisfied: urllib3<3,>=1.21.1 in /usr/local/lib/python3.10/dist-packages (from requests<3.0.0.dev0,>=2.18.0->google-api-core[grpc]!=2.0.*,!=2.1.*,!=2.2.*,!=2.3.*,!=2.4.*,!=2.5.*,!=2.6.*,!=2.7.*,<3.0.0dev,>=1.34.1->google-cloud-aiplatform) (2.0.7)\n",
            "Requirement already satisfied: certifi>=2017.4.17 in /usr/local/lib/python3.10/dist-packages (from requests<3.0.0.dev0,>=2.18.0->google-api-core[grpc]!=2.0.*,!=2.1.*,!=2.2.*,!=2.3.*,!=2.4.*,!=2.5.*,!=2.6.*,!=2.7.*,<3.0.0dev,>=1.34.1->google-cloud-aiplatform) (2024.6.2)\n"
          ]
        }
      ]
    },
    {
      "cell_type": "code",
      "source": [
        "!pip install rich"
      ],
      "metadata": {
        "colab": {
          "base_uri": "https://localhost:8080/"
        },
        "id": "fkEsm2PpjcSb",
        "outputId": "33eaf636-48e2-4427-b78c-3c04a2d4531f"
      },
      "execution_count": null,
      "outputs": [
        {
          "output_type": "stream",
          "name": "stdout",
          "text": [
            "Requirement already satisfied: rich in /usr/local/lib/python3.10/dist-packages (13.7.1)\n",
            "Requirement already satisfied: markdown-it-py>=2.2.0 in /usr/local/lib/python3.10/dist-packages (from rich) (3.0.0)\n",
            "Requirement already satisfied: pygments<3.0.0,>=2.13.0 in /usr/local/lib/python3.10/dist-packages (from rich) (2.16.1)\n",
            "Requirement already satisfied: mdurl~=0.1 in /usr/local/lib/python3.10/dist-packages (from markdown-it-py>=2.2.0->rich) (0.1.2)\n"
          ]
        }
      ]
    },
    {
      "cell_type": "code",
      "source": [
        "from google.colab import auth\n",
        "auth.authenticate_user()"
      ],
      "metadata": {
        "id": "kcEc4JIzxiJG"
      },
      "execution_count": null,
      "outputs": []
    },
    {
      "cell_type": "code",
      "source": [
        "import pandas as pd\n",
        "from rich.console import Console\n",
        "console = Console()"
      ],
      "metadata": {
        "id": "W-dDVTEEZa14"
      },
      "execution_count": null,
      "outputs": []
    },
    {
      "cell_type": "code",
      "source": [
        "so_df = pd.read_csv('so_database_app.csv')\n",
        "so_df.head()"
      ],
      "metadata": {
        "colab": {
          "base_uri": "https://localhost:8080/",
          "height": 206
        },
        "id": "MrFKs5_YZki7",
        "outputId": "a297ba63-ed9c-4e6d-beb4-1a96120ba767"
      },
      "execution_count": null,
      "outputs": [
        {
          "output_type": "execute_result",
          "data": {
            "text/plain": [
              "                                          input_text  \\\n",
              "0  python's inspect.getfile returns \"<string>\"<p>...   \n",
              "1  Passing parameter to function while multithrea...   \n",
              "2  How do we test a specific method written in a ...   \n",
              "3  how can i remove the black bg color of an imag...   \n",
              "4  How to extract each sheet within an Excel file...   \n",
              "\n",
              "                                         output_text category  \n",
              "0  <p><code>&lt;string&gt;</code> means that the ...   python  \n",
              "1  <p>Try this and note the difference:</p>\\n<pre...   python  \n",
              "2  <p>Duplicate of <a href=\"https://stackoverflow...   python  \n",
              "3  <p>The alpha channel &quot;disappears&quot; be...   python  \n",
              "4  <p>You need to specify the <code>index</code> ...   python  "
            ],
            "text/html": [
              "\n",
              "  <div id=\"df-9b586b04-4d08-4db4-bb05-a7ef4d18b8d9\" class=\"colab-df-container\">\n",
              "    <div>\n",
              "<style scoped>\n",
              "    .dataframe tbody tr th:only-of-type {\n",
              "        vertical-align: middle;\n",
              "    }\n",
              "\n",
              "    .dataframe tbody tr th {\n",
              "        vertical-align: top;\n",
              "    }\n",
              "\n",
              "    .dataframe thead th {\n",
              "        text-align: right;\n",
              "    }\n",
              "</style>\n",
              "<table border=\"1\" class=\"dataframe\">\n",
              "  <thead>\n",
              "    <tr style=\"text-align: right;\">\n",
              "      <th></th>\n",
              "      <th>input_text</th>\n",
              "      <th>output_text</th>\n",
              "      <th>category</th>\n",
              "    </tr>\n",
              "  </thead>\n",
              "  <tbody>\n",
              "    <tr>\n",
              "      <th>0</th>\n",
              "      <td>python's inspect.getfile returns \"&lt;string&gt;\"&lt;p&gt;...</td>\n",
              "      <td>&lt;p&gt;&lt;code&gt;&amp;lt;string&amp;gt;&lt;/code&gt; means that the ...</td>\n",
              "      <td>python</td>\n",
              "    </tr>\n",
              "    <tr>\n",
              "      <th>1</th>\n",
              "      <td>Passing parameter to function while multithrea...</td>\n",
              "      <td>&lt;p&gt;Try this and note the difference:&lt;/p&gt;\\n&lt;pre...</td>\n",
              "      <td>python</td>\n",
              "    </tr>\n",
              "    <tr>\n",
              "      <th>2</th>\n",
              "      <td>How do we test a specific method written in a ...</td>\n",
              "      <td>&lt;p&gt;Duplicate of &lt;a href=\"https://stackoverflow...</td>\n",
              "      <td>python</td>\n",
              "    </tr>\n",
              "    <tr>\n",
              "      <th>3</th>\n",
              "      <td>how can i remove the black bg color of an imag...</td>\n",
              "      <td>&lt;p&gt;The alpha channel &amp;quot;disappears&amp;quot; be...</td>\n",
              "      <td>python</td>\n",
              "    </tr>\n",
              "    <tr>\n",
              "      <th>4</th>\n",
              "      <td>How to extract each sheet within an Excel file...</td>\n",
              "      <td>&lt;p&gt;You need to specify the &lt;code&gt;index&lt;/code&gt; ...</td>\n",
              "      <td>python</td>\n",
              "    </tr>\n",
              "  </tbody>\n",
              "</table>\n",
              "</div>\n",
              "    <div class=\"colab-df-buttons\">\n",
              "\n",
              "  <div class=\"colab-df-container\">\n",
              "    <button class=\"colab-df-convert\" onclick=\"convertToInteractive('df-9b586b04-4d08-4db4-bb05-a7ef4d18b8d9')\"\n",
              "            title=\"Convert this dataframe to an interactive table.\"\n",
              "            style=\"display:none;\">\n",
              "\n",
              "  <svg xmlns=\"http://www.w3.org/2000/svg\" height=\"24px\" viewBox=\"0 -960 960 960\">\n",
              "    <path d=\"M120-120v-720h720v720H120Zm60-500h600v-160H180v160Zm220 220h160v-160H400v160Zm0 220h160v-160H400v160ZM180-400h160v-160H180v160Zm440 0h160v-160H620v160ZM180-180h160v-160H180v160Zm440 0h160v-160H620v160Z\"/>\n",
              "  </svg>\n",
              "    </button>\n",
              "\n",
              "  <style>\n",
              "    .colab-df-container {\n",
              "      display:flex;\n",
              "      gap: 12px;\n",
              "    }\n",
              "\n",
              "    .colab-df-convert {\n",
              "      background-color: #E8F0FE;\n",
              "      border: none;\n",
              "      border-radius: 50%;\n",
              "      cursor: pointer;\n",
              "      display: none;\n",
              "      fill: #1967D2;\n",
              "      height: 32px;\n",
              "      padding: 0 0 0 0;\n",
              "      width: 32px;\n",
              "    }\n",
              "\n",
              "    .colab-df-convert:hover {\n",
              "      background-color: #E2EBFA;\n",
              "      box-shadow: 0px 1px 2px rgba(60, 64, 67, 0.3), 0px 1px 3px 1px rgba(60, 64, 67, 0.15);\n",
              "      fill: #174EA6;\n",
              "    }\n",
              "\n",
              "    .colab-df-buttons div {\n",
              "      margin-bottom: 4px;\n",
              "    }\n",
              "\n",
              "    [theme=dark] .colab-df-convert {\n",
              "      background-color: #3B4455;\n",
              "      fill: #D2E3FC;\n",
              "    }\n",
              "\n",
              "    [theme=dark] .colab-df-convert:hover {\n",
              "      background-color: #434B5C;\n",
              "      box-shadow: 0px 1px 3px 1px rgba(0, 0, 0, 0.15);\n",
              "      filter: drop-shadow(0px 1px 2px rgba(0, 0, 0, 0.3));\n",
              "      fill: #FFFFFF;\n",
              "    }\n",
              "  </style>\n",
              "\n",
              "    <script>\n",
              "      const buttonEl =\n",
              "        document.querySelector('#df-9b586b04-4d08-4db4-bb05-a7ef4d18b8d9 button.colab-df-convert');\n",
              "      buttonEl.style.display =\n",
              "        google.colab.kernel.accessAllowed ? 'block' : 'none';\n",
              "\n",
              "      async function convertToInteractive(key) {\n",
              "        const element = document.querySelector('#df-9b586b04-4d08-4db4-bb05-a7ef4d18b8d9');\n",
              "        const dataTable =\n",
              "          await google.colab.kernel.invokeFunction('convertToInteractive',\n",
              "                                                    [key], {});\n",
              "        if (!dataTable) return;\n",
              "\n",
              "        const docLinkHtml = 'Like what you see? Visit the ' +\n",
              "          '<a target=\"_blank\" href=https://colab.research.google.com/notebooks/data_table.ipynb>data table notebook</a>'\n",
              "          + ' to learn more about interactive tables.';\n",
              "        element.innerHTML = '';\n",
              "        dataTable['output_type'] = 'display_data';\n",
              "        await google.colab.output.renderOutput(dataTable, element);\n",
              "        const docLink = document.createElement('div');\n",
              "        docLink.innerHTML = docLinkHtml;\n",
              "        element.appendChild(docLink);\n",
              "      }\n",
              "    </script>\n",
              "  </div>\n",
              "\n",
              "\n",
              "<div id=\"df-fefc8944-c8da-4c06-9a96-25ad28885fa8\">\n",
              "  <button class=\"colab-df-quickchart\" onclick=\"quickchart('df-fefc8944-c8da-4c06-9a96-25ad28885fa8')\"\n",
              "            title=\"Suggest charts\"\n",
              "            style=\"display:none;\">\n",
              "\n",
              "<svg xmlns=\"http://www.w3.org/2000/svg\" height=\"24px\"viewBox=\"0 0 24 24\"\n",
              "     width=\"24px\">\n",
              "    <g>\n",
              "        <path d=\"M19 3H5c-1.1 0-2 .9-2 2v14c0 1.1.9 2 2 2h14c1.1 0 2-.9 2-2V5c0-1.1-.9-2-2-2zM9 17H7v-7h2v7zm4 0h-2V7h2v10zm4 0h-2v-4h2v4z\"/>\n",
              "    </g>\n",
              "</svg>\n",
              "  </button>\n",
              "\n",
              "<style>\n",
              "  .colab-df-quickchart {\n",
              "      --bg-color: #E8F0FE;\n",
              "      --fill-color: #1967D2;\n",
              "      --hover-bg-color: #E2EBFA;\n",
              "      --hover-fill-color: #174EA6;\n",
              "      --disabled-fill-color: #AAA;\n",
              "      --disabled-bg-color: #DDD;\n",
              "  }\n",
              "\n",
              "  [theme=dark] .colab-df-quickchart {\n",
              "      --bg-color: #3B4455;\n",
              "      --fill-color: #D2E3FC;\n",
              "      --hover-bg-color: #434B5C;\n",
              "      --hover-fill-color: #FFFFFF;\n",
              "      --disabled-bg-color: #3B4455;\n",
              "      --disabled-fill-color: #666;\n",
              "  }\n",
              "\n",
              "  .colab-df-quickchart {\n",
              "    background-color: var(--bg-color);\n",
              "    border: none;\n",
              "    border-radius: 50%;\n",
              "    cursor: pointer;\n",
              "    display: none;\n",
              "    fill: var(--fill-color);\n",
              "    height: 32px;\n",
              "    padding: 0;\n",
              "    width: 32px;\n",
              "  }\n",
              "\n",
              "  .colab-df-quickchart:hover {\n",
              "    background-color: var(--hover-bg-color);\n",
              "    box-shadow: 0 1px 2px rgba(60, 64, 67, 0.3), 0 1px 3px 1px rgba(60, 64, 67, 0.15);\n",
              "    fill: var(--button-hover-fill-color);\n",
              "  }\n",
              "\n",
              "  .colab-df-quickchart-complete:disabled,\n",
              "  .colab-df-quickchart-complete:disabled:hover {\n",
              "    background-color: var(--disabled-bg-color);\n",
              "    fill: var(--disabled-fill-color);\n",
              "    box-shadow: none;\n",
              "  }\n",
              "\n",
              "  .colab-df-spinner {\n",
              "    border: 2px solid var(--fill-color);\n",
              "    border-color: transparent;\n",
              "    border-bottom-color: var(--fill-color);\n",
              "    animation:\n",
              "      spin 1s steps(1) infinite;\n",
              "  }\n",
              "\n",
              "  @keyframes spin {\n",
              "    0% {\n",
              "      border-color: transparent;\n",
              "      border-bottom-color: var(--fill-color);\n",
              "      border-left-color: var(--fill-color);\n",
              "    }\n",
              "    20% {\n",
              "      border-color: transparent;\n",
              "      border-left-color: var(--fill-color);\n",
              "      border-top-color: var(--fill-color);\n",
              "    }\n",
              "    30% {\n",
              "      border-color: transparent;\n",
              "      border-left-color: var(--fill-color);\n",
              "      border-top-color: var(--fill-color);\n",
              "      border-right-color: var(--fill-color);\n",
              "    }\n",
              "    40% {\n",
              "      border-color: transparent;\n",
              "      border-right-color: var(--fill-color);\n",
              "      border-top-color: var(--fill-color);\n",
              "    }\n",
              "    60% {\n",
              "      border-color: transparent;\n",
              "      border-right-color: var(--fill-color);\n",
              "    }\n",
              "    80% {\n",
              "      border-color: transparent;\n",
              "      border-right-color: var(--fill-color);\n",
              "      border-bottom-color: var(--fill-color);\n",
              "    }\n",
              "    90% {\n",
              "      border-color: transparent;\n",
              "      border-bottom-color: var(--fill-color);\n",
              "    }\n",
              "  }\n",
              "</style>\n",
              "\n",
              "  <script>\n",
              "    async function quickchart(key) {\n",
              "      const quickchartButtonEl =\n",
              "        document.querySelector('#' + key + ' button');\n",
              "      quickchartButtonEl.disabled = true;  // To prevent multiple clicks.\n",
              "      quickchartButtonEl.classList.add('colab-df-spinner');\n",
              "      try {\n",
              "        const charts = await google.colab.kernel.invokeFunction(\n",
              "            'suggestCharts', [key], {});\n",
              "      } catch (error) {\n",
              "        console.error('Error during call to suggestCharts:', error);\n",
              "      }\n",
              "      quickchartButtonEl.classList.remove('colab-df-spinner');\n",
              "      quickchartButtonEl.classList.add('colab-df-quickchart-complete');\n",
              "    }\n",
              "    (() => {\n",
              "      let quickchartButtonEl =\n",
              "        document.querySelector('#df-fefc8944-c8da-4c06-9a96-25ad28885fa8 button');\n",
              "      quickchartButtonEl.style.display =\n",
              "        google.colab.kernel.accessAllowed ? 'block' : 'none';\n",
              "    })();\n",
              "  </script>\n",
              "</div>\n",
              "\n",
              "    </div>\n",
              "  </div>\n"
            ],
            "application/vnd.google.colaboratory.intrinsic+json": {
              "type": "dataframe",
              "variable_name": "so_df",
              "summary": "{\n  \"name\": \"so_df\",\n  \"rows\": 2000,\n  \"fields\": [\n    {\n      \"column\": \"input_text\",\n      \"properties\": {\n        \"dtype\": \"string\",\n        \"num_unique_values\": 2000,\n        \"samples\": [\n          \"How can I change color with append Div?<p>I can't change color with append div dynamically. I want change default color of div, in red.</p>\\n<p>My HTML markup is:</p>\\n<pre><code>&lt;div id=&quot;risultato&quot;&gt;&lt;/div&gt;\\n</code></pre>\\n<p>Javascript code:</p>\\n<pre><code>var result= document.getElementById('risultato');\\nresult.style.color = &quot;red&quot;;\\nresult.innerHTML+= &lt;a href=&quot;www.google.com&quot;&gt;\\n</code></pre>\\n<p>but google.com have blue color not red.</p>\\n<p>I also tried with css:</p>\\n<pre><code>&lt;style&gt;\\n#risultato {\\n    margin-left: 18px;\\n    font-size: 17px;\\n    text-decoration: none;\\n    color: red;\\n}   \\n&lt;/style&gt;\\n</code></pre>\\n<p>But it doesn't work. How can I do this?</p>\",\n          \"Format string to datetime in Pandas without zero padding, AM/PM and UTC<p>My csv file contains the date and time values like below. I want to convert this to a datetime format in pandas but I keep getting errors.<br />\\nI then want to convert it to a 24 hour format with zero padding and without the mention UTC.</p>\\n<p>I already tried : <code>format=&quot;%m/%d/%Y %I:%M %p&quot;</code></p>\\n<pre><code>10/12/2021 10:25 AM UTC   \\n9/28/2021 8:51 AM UTC   \\n7/27/2021 9:45 AM UTC   \\n2/2/2022 7:10 PM UTC \\n</code></pre>\\n<p>Desired output:</p>\\n<pre><code>10/12/2021 10:25   \\n09/28/2021 08:51   \\n07/27/2021 09:45   \\n02/02/2022 19:10 \\n</code></pre>\",\n          \"Docker compose can't correct build react app<p>I have api (net-core) and react-app projects in root folder. I start dockerize my project from react application. If docker-compose and docker file in same react-app folder, dockerize works correct. But i want in future start two docker from root folder. This my folder structure:</p>\\n<pre><code>root\\n      \\u251c client-app\\n      \\u2502  \\u251c node_modules\\n      \\u2502  \\u251c public\\n      \\u2502  \\u251c src\\n      \\u2502  \\u2502  \\u251c etc folders and files\\n      \\u2502  \\u251c Dockerfile\\n      \\u2502  \\u251c package.json\\n      \\u2502  \\u2514 package-lock.json\\n      \\u251c api folder\\n      \\u2514 docker-compose.yml\\n</code></pre>\\n<p>This is dockerfile:</p>\\n<pre><code>FROM node:alpine\\nWORKDIR /client-app\\nENV PATH=&quot;./node_modules/.bin:$PATH&quot;\\nCOPY ./client-app/package.json /client-app/\\nRUN npm install\\nCOPY ./client-app/ /client-app/\\nRUN npm run build\\n</code></pre>\\n<p>This is docker-compose:</p>\\n<pre><code>version: &quot;3.4&quot;\\nservices:\\n  app:\\n    build:\\n      context: .\\n      dockerfile: client-app/Dockerfile\\n    volumes:\\n      - .:/client-app\\n    ports:\\n      - &quot;3000:3000&quot;\\n    image: app/react\\n    container_name: app_container\\n    command: npm start\\n</code></pre>\\n<p>Then i start dockerize from root folder docker-compose up:</p>\\n<pre><code> =&gt; exporting to image                                                                                                                           4.4s \\n =&gt; =&gt; exporting layers                                                                                                                          4.4s \\n =&gt; =&gt; writing image sha256:38172c4db5efba2b309f84f3c0b6c02e1ecbae89e611f1899205f663a805646e                                                     0.0s \\n =&gt; =&gt; naming to app/react                                                                                                                       0.0s \\n\\nUse 'docker scan' to run Snyk tests against images to find vulnerabilities and learn how to fix them\\n[+] Running 2/1\\n - Network larchkiktest_default     Created                                                                                                      0.0s \\n - Container app_container  Created                                                                                                              0.1s\\nAttaching to app_container\\napp_container  | npm ERR! code ENOENT\\napp_container  | npm ERR! syscall open\\napp_container  | npm ERR! path /client-app/package.json\\napp_container  | npm ERR! errno -2\\napp_container  | npm ERR! enoent ENOENT: no such file or directory, open '/client-app/package.json'\\napp_container  | npm ERR! enoent This is related to npm not being able to find a file.\\napp_container  | npm ERR! enoent\\napp_container  |\\napp_container  | npm ERR! A complete log of this run can be found in:\\napp_container  | npm ERR!     /root/.npm/_logs/2022-04-10T18_00_24_224Z-debug-0.log\\napp_container exited with code 254\\n</code></pre>\\n<p>If i change folders in dockerfile, like this:\\nCOPY package.json ./ or  COPY . . then docker fail install packages or build project because  can't find files. How i can fix build react app from root folder? Thank you.</p>\"\n        ],\n        \"semantic_type\": \"\",\n        \"description\": \"\"\n      }\n    },\n    {\n      \"column\": \"output_text\",\n      \"properties\": {\n        \"dtype\": \"string\",\n        \"num_unique_values\": 2000,\n        \"samples\": [\n          \"<p><div class=\\\"snippet\\\" data-lang=\\\"js\\\" data-hide=\\\"false\\\" data-console=\\\"true\\\" data-babel=\\\"false\\\">\\n<div class=\\\"snippet-code\\\">\\n<pre class=\\\"snippet-code-js lang-js prettyprint-override\\\"><code>var result= document.getElementById('risultato');\\nresult.style.color = \\\"red\\\";\\nresult.innerHTML+= '&lt;a style=\\\"color:green\\\" href=\\\"www.google.com\\\"&gt;google&lt;/a&gt;'</code></pre>\\n<pre class=\\\"snippet-code-css lang-css prettyprint-override\\\"><code>both js and css are basically fine.  your innerHTML statement needs some fine tuning.</code></pre>\\n<pre class=\\\"snippet-code-html lang-html prettyprint-override\\\"><code>&lt;div id=\\\"risultato\\\"&gt;some text&lt;/div&gt;</code></pre>\\n</div>\\n</div>\\n</p>\",\n          \"<p>You can use <a href=\\\"https://docs.python.org/3/library/datetime.html#strftime-and-strptime-behavior\\\" rel=\\\"nofollow noreferrer\\\"><code>%m/%d/%Y %H:%M</code></a>:</p>\\n<pre><code>pd.to_datetime(df['date'], dayfirst=False).dt.strftime('%m/%d/%Y %H:%M')\\n</code></pre>\\n<p>output:</p>\\n<pre><code>0    10/12/2021 10:25\\n1    09/28/2021 08:51\\n2    07/27/2021 09:45\\n3    02/02/2022 19:10\\nName: date, dtype: object\\n</code></pre>\\n<p>used input:</p>\\n<pre><code>df = pd.DataFrame({'date': ['10/12/2021 10:25 AM UTC',\\n                            '9/28/2021 8:51 AM UTC',\\n                            '7/27/2021 9:45 AM UTC',\\n                            '2/2/2022 7:10 PM UTC']})\\n</code></pre>\",\n          \"<p>I resolved error. Need to change Workdir /usr/src/app. Now my files are like this:</p>\\n<pre><code>FROM node:alpine\\nWORKDIR /usr/src/app\\nENV PATH=&quot;./node_modules/.bin:$PATH&quot;\\nCOPY ./client-app/package*.json .\\nRUN npm install\\nCOPY ./client-app/ .\\nRUN npm run build\\n\\nversion: &quot;3.4&quot;\\nservices:\\n  app:\\n    build:\\n      context: .\\n      dockerfile: client-app/Dockerfile\\n    volumes:\\n      - ./:/app\\n    ports:\\n      - &quot;3000:3000&quot;\\n    image: app/react\\n    container_name: app_container\\n    command: npm start\\n</code></pre>\"\n        ],\n        \"semantic_type\": \"\",\n        \"description\": \"\"\n      }\n    },\n    {\n      \"column\": \"category\",\n      \"properties\": {\n        \"dtype\": \"category\",\n        \"num_unique_values\": 4,\n        \"samples\": [\n          \"html\",\n          \"css\",\n          \"python\"\n        ],\n        \"semantic_type\": \"\",\n        \"description\": \"\"\n      }\n    }\n  ]\n}"
            }
          },
          "metadata": {},
          "execution_count": 4
        }
      ]
    },
    {
      "cell_type": "code",
      "source": [
        "import pickle"
      ],
      "metadata": {
        "id": "cMOEOwZdaMxf"
      },
      "execution_count": null,
      "outputs": []
    },
    {
      "cell_type": "code",
      "source": [
        "with open('embeddings.pkl', 'rb') as file:\n",
        "  question_embeddings = pickle.load(file)"
      ],
      "metadata": {
        "id": "8klf5d3DabIR"
      },
      "execution_count": null,
      "outputs": []
    },
    {
      "cell_type": "code",
      "source": [
        "so_df['embeddings'] = question_embeddings.tolist()"
      ],
      "metadata": {
        "id": "fFkJUxbnvhif"
      },
      "execution_count": null,
      "outputs": []
    },
    {
      "cell_type": "code",
      "source": [
        "import numpy as np\n",
        "\n",
        "from sklearn.metrics.pairwise import cosine_similarity\n",
        "from sklearn.metrics import pairwise_distances_argmin as distances_argmin"
      ],
      "metadata": {
        "id": "Y8YbSUl-vovr"
      },
      "execution_count": null,
      "outputs": []
    },
    {
      "cell_type": "code",
      "source": [
        "query = ['How to concat dataframes pandas']"
      ],
      "metadata": {
        "id": "A0XWPmTIfj3L"
      },
      "execution_count": null,
      "outputs": []
    },
    {
      "cell_type": "code",
      "source": [
        "import vertexai\n",
        "from vertexai.language_models import TextEmbeddingInput, TextEmbeddingModel\n",
        "\n",
        "vertexai.init(project=\"devhack-3f0c2\", location=\"us-central1\")\n",
        "\n",
        "model_name = \"text-embedding-004\"\n",
        "task = \"SEMANTIC_SIMILARITY\"\n",
        "dimensionality: int = 768\n",
        "model = TextEmbeddingModel.from_pretrained(model_name)\n",
        "kwargs = dict(output_dimensionality=dimensionality) if dimensionality else {}\n",
        "\n",
        "query_embedding = model.get_embeddings(query, **kwargs)[0].values"
      ],
      "metadata": {
        "id": "8blDxh3qfl0d"
      },
      "execution_count": null,
      "outputs": []
    },
    {
      "cell_type": "code",
      "source": [
        "cos_sim_array = cosine_similarity([query_embedding],list(so_df.embeddings.values))"
      ],
      "metadata": {
        "id": "6J7-PPdKf9yu"
      },
      "execution_count": null,
      "outputs": []
    },
    {
      "cell_type": "code",
      "source": [
        "index_doc_cosine = np.argmax(cos_sim_array)\n",
        "index_doc_distances = distances_argmin([query_embedding],\n",
        "                                       list(so_df.embeddings.values))[0]"
      ],
      "metadata": {
        "id": "K5Nv-VwngLvO"
      },
      "execution_count": null,
      "outputs": []
    },
    {
      "cell_type": "code",
      "source": [
        "console.print(so_df.input_text[index_doc_cosine])"
      ],
      "metadata": {
        "colab": {
          "base_uri": "https://localhost:8080/",
          "height": 1000
        },
        "id": "bP7lYMSKg4Rd",
        "outputId": "afebec5a-5f6e-4fd5-fd9b-3684c973dcea"
      },
      "execution_count": null,
      "outputs": [
        {
          "output_type": "display_data",
          "data": {
            "text/plain": [
              "Concatenate \u001b[1;36m2\u001b[0m dataframes and repeat values from small one with pandas\u001b[1m<\u001b[0m\u001b[1;95mp\u001b[0m\u001b[39m>I have these two dataframes:<\u001b[0m\u001b[35m/\u001b[0m\u001b[95mp\u001b[0m\u001b[39m>\u001b[0m\n",
              "\u001b[39m<div \u001b[0m\u001b[33mclass\u001b[0m\u001b[39m=\u001b[0m\u001b[32m\"s\u001b[0m\u001b[32m-table-container\"\u001b[0m\u001b[39m>\u001b[0m\n",
              "\u001b[39m<table \u001b[0m\u001b[33mclass\u001b[0m\u001b[39m=\u001b[0m\u001b[32m\"s\u001b[0m\u001b[32m-table\"\u001b[0m\u001b[39m>\u001b[0m\n",
              "\u001b[39m<thead>\u001b[0m\n",
              "\u001b[39m<tr>\u001b[0m\n",
              "\u001b[39m<th>Field1<\u001b[0m\u001b[35m/\u001b[0m\u001b[95mth\u001b[0m\u001b[39m>\u001b[0m\n",
              "\u001b[39m<th>Field2<\u001b[0m\u001b[35m/\u001b[0m\u001b[95mth\u001b[0m\u001b[39m>\u001b[0m\n",
              "\u001b[39m<\u001b[0m\u001b[35m/\u001b[0m\u001b[95mtr\u001b[0m\u001b[39m>\u001b[0m\n",
              "\u001b[39m<\u001b[0m\u001b[35m/\u001b[0m\u001b[95mthead\u001b[0m\u001b[39m>\u001b[0m\n",
              "\u001b[39m<tbody>\u001b[0m\n",
              "\u001b[39m<tr>\u001b[0m\n",
              "\u001b[39m<td>\u001b[0m\u001b[1;36m0.5\u001b[0m\u001b[39m<\u001b[0m\u001b[35m/\u001b[0m\u001b[95mtd\u001b[0m\u001b[39m>\u001b[0m\n",
              "\u001b[39m<td>\u001b[0m\u001b[1;36m0.7\u001b[0m\u001b[39m<\u001b[0m\u001b[35m/\u001b[0m\u001b[95mtd\u001b[0m\u001b[39m>\u001b[0m\n",
              "\u001b[39m<\u001b[0m\u001b[35m/\u001b[0m\u001b[95mtr\u001b[0m\u001b[39m>\u001b[0m\n",
              "\u001b[39m<tr>\u001b[0m\n",
              "\u001b[39m<td>\u001b[0m\u001b[1;36m2\u001b[0m\u001b[39m<\u001b[0m\u001b[35m/\u001b[0m\u001b[95mtd\u001b[0m\u001b[39m>\u001b[0m\n",
              "\u001b[39m<td>\u001b[0m\u001b[1;36m1\u001b[0m\u001b[39m<\u001b[0m\u001b[35m/\u001b[0m\u001b[95mtd\u001b[0m\u001b[39m>\u001b[0m\n",
              "\u001b[39m<\u001b[0m\u001b[35m/\u001b[0m\u001b[95mtr\u001b[0m\u001b[39m>\u001b[0m\n",
              "\u001b[39m<tr>\u001b[0m\n",
              "\u001b[39m<td>\u001b[0m\u001b[1;36m3\u001b[0m\u001b[39m<\u001b[0m\u001b[35m/\u001b[0m\u001b[95mtd\u001b[0m\u001b[39m>\u001b[0m\n",
              "\u001b[39m<td>\u001b[0m\u001b[1;36m0.1\u001b[0m\u001b[39m<\u001b[0m\u001b[35m/\u001b[0m\u001b[95mtd\u001b[0m\u001b[39m>\u001b[0m\n",
              "\u001b[39m<\u001b[0m\u001b[35m/\u001b[0m\u001b[95mtr\u001b[0m\u001b[39m>\u001b[0m\n",
              "\u001b[39m<tr>\u001b[0m\n",
              "\u001b[39m<td>\u001b[0m\u001b[1;36m4\u001b[0m\u001b[39m<\u001b[0m\u001b[35m/\u001b[0m\u001b[95mtd\u001b[0m\u001b[39m>\u001b[0m\n",
              "\u001b[39m<td>\u001b[0m\u001b[1;36m0.4\u001b[0m\u001b[39m<\u001b[0m\u001b[35m/\u001b[0m\u001b[95mtd\u001b[0m\u001b[39m>\u001b[0m\n",
              "\u001b[39m<\u001b[0m\u001b[35m/\u001b[0m\u001b[95mtr\u001b[0m\u001b[39m>\u001b[0m\n",
              "\u001b[39m<\u001b[0m\u001b[35m/\u001b[0m\u001b[95mtbody\u001b[0m\u001b[39m>\u001b[0m\n",
              "\u001b[39m<\u001b[0m\u001b[35m/\u001b[0m\u001b[95mtable\u001b[0m\u001b[39m>\u001b[0m\n",
              "\u001b[39m<\u001b[0m\u001b[35m/\u001b[0m\u001b[95mdiv\u001b[0m\u001b[39m>\u001b[0m\n",
              "\u001b[39m<p>and<\u001b[0m\u001b[35m/\u001b[0m\u001b[95mp\u001b[0m\u001b[39m>\u001b[0m\n",
              "\u001b[39m<div \u001b[0m\u001b[33mclass\u001b[0m\u001b[39m=\u001b[0m\u001b[32m\"s\u001b[0m\u001b[32m-table-container\"\u001b[0m\u001b[39m>\u001b[0m\n",
              "\u001b[39m<table \u001b[0m\u001b[33mclass\u001b[0m\u001b[39m=\u001b[0m\u001b[32m\"s\u001b[0m\u001b[32m-table\"\u001b[0m\u001b[39m>\u001b[0m\n",
              "\u001b[39m<thead>\u001b[0m\n",
              "\u001b[39m<tr>\u001b[0m\n",
              "\u001b[39m<th>Date<\u001b[0m\u001b[35m/\u001b[0m\u001b[95mth\u001b[0m\u001b[39m>\u001b[0m\n",
              "\u001b[39m<th>Time<\u001b[0m\u001b[35m/\u001b[0m\u001b[95mth\u001b[0m\u001b[39m>\u001b[0m\n",
              "\u001b[39m<\u001b[0m\u001b[35m/\u001b[0m\u001b[95mtr\u001b[0m\u001b[39m>\u001b[0m\n",
              "\u001b[39m<\u001b[0m\u001b[35m/\u001b[0m\u001b[95mthead\u001b[0m\u001b[39m>\u001b[0m\n",
              "\u001b[39m<tbody>\u001b[0m\n",
              "\u001b[39m<tr>\u001b[0m\n",
              "\u001b[39m<td>\u001b[0m\u001b[1;36m2022\u001b[0m\u001b[39m-\u001b[0m\u001b[1;36m08\u001b[0m\u001b[39m-\u001b[0m\u001b[1;36m01\u001b[0m\u001b[39m<\u001b[0m\u001b[35m/\u001b[0m\u001b[95mtd\u001b[0m\u001b[39m>\u001b[0m\n",
              "\u001b[39m<td>\u001b[0m\u001b[1;36m1\u001b[0m\u001b[39m<\u001b[0m\u001b[35m/\u001b[0m\u001b[95mtd\u001b[0m\u001b[39m>\u001b[0m\n",
              "\u001b[39m<\u001b[0m\u001b[35m/\u001b[0m\u001b[95mtr\u001b[0m\u001b[39m>\u001b[0m\n",
              "\u001b[39m<tr>\u001b[0m\n",
              "\u001b[39m<td>\u001b[0m\u001b[1;36m2022\u001b[0m\u001b[39m-\u001b[0m\u001b[1;36m08\u001b[0m\u001b[39m-\u001b[0m\u001b[1;36m01\u001b[0m\u001b[39m<\u001b[0m\u001b[35m/\u001b[0m\u001b[95mtd\u001b[0m\u001b[39m>\u001b[0m\n",
              "\u001b[39m<td>\u001b[0m\u001b[1;36m2\u001b[0m\u001b[39m<\u001b[0m\u001b[35m/\u001b[0m\u001b[95mtd\u001b[0m\u001b[39m>\u001b[0m\n",
              "\u001b[39m<\u001b[0m\u001b[35m/\u001b[0m\u001b[95mtr\u001b[0m\u001b[39m>\u001b[0m\n",
              "\u001b[39m<\u001b[0m\u001b[35m/\u001b[0m\u001b[95mtbody\u001b[0m\u001b[39m>\u001b[0m\n",
              "\u001b[39m<\u001b[0m\u001b[35m/\u001b[0m\u001b[95mtable\u001b[0m\u001b[39m>\u001b[0m\n",
              "\u001b[39m<\u001b[0m\u001b[35m/\u001b[0m\u001b[95mdiv\u001b[0m\u001b[39m>\u001b[0m\n",
              "\u001b[39m<p>and a I need to obtain the following:<\u001b[0m\u001b[35m/\u001b[0m\u001b[95mp\u001b[0m\u001b[39m>\u001b[0m\n",
              "\u001b[39m<div \u001b[0m\u001b[33mclass\u001b[0m\u001b[39m=\u001b[0m\u001b[32m\"s\u001b[0m\u001b[32m-table-container\"\u001b[0m\u001b[39m>\u001b[0m\n",
              "\u001b[39m<table \u001b[0m\u001b[33mclass\u001b[0m\u001b[39m=\u001b[0m\u001b[32m\"s\u001b[0m\u001b[32m-table\"\u001b[0m\u001b[39m>\u001b[0m\n",
              "\u001b[39m<thead>\u001b[0m\n",
              "\u001b[39m<tr>\u001b[0m\n",
              "\u001b[39m<th>Field1<\u001b[0m\u001b[35m/\u001b[0m\u001b[95mth\u001b[0m\u001b[39m>\u001b[0m\n",
              "\u001b[39m<th>Field2<\u001b[0m\u001b[35m/\u001b[0m\u001b[95mth\u001b[0m\u001b[39m>\u001b[0m\n",
              "\u001b[39m<th>Date<\u001b[0m\u001b[35m/\u001b[0m\u001b[95mth\u001b[0m\u001b[39m>\u001b[0m\n",
              "\u001b[39m<th>Time<\u001b[0m\u001b[35m/\u001b[0m\u001b[95mth\u001b[0m\u001b[39m>\u001b[0m\n",
              "\u001b[39m<\u001b[0m\u001b[35m/\u001b[0m\u001b[95mtr\u001b[0m\u001b[39m>\u001b[0m\n",
              "\u001b[39m<\u001b[0m\u001b[35m/\u001b[0m\u001b[95mthead\u001b[0m\u001b[39m>\u001b[0m\n",
              "\u001b[39m<tbody>\u001b[0m\n",
              "\u001b[39m<tr>\u001b[0m\n",
              "\u001b[39m<td>\u001b[0m\u001b[1;36m0.5\u001b[0m\u001b[39m<\u001b[0m\u001b[35m/\u001b[0m\u001b[95mtd\u001b[0m\u001b[39m>\u001b[0m\n",
              "\u001b[39m<td>\u001b[0m\u001b[1;36m0.7\u001b[0m\u001b[39m<\u001b[0m\u001b[35m/\u001b[0m\u001b[95mtd\u001b[0m\u001b[39m>\u001b[0m\n",
              "\u001b[39m<td>\u001b[0m\u001b[1;36m2022\u001b[0m\u001b[39m-\u001b[0m\u001b[1;36m08\u001b[0m\u001b[39m-\u001b[0m\u001b[1;36m01\u001b[0m\u001b[39m<\u001b[0m\u001b[35m/\u001b[0m\u001b[95mtd\u001b[0m\u001b[39m>\u001b[0m\n",
              "\u001b[39m<td>\u001b[0m\u001b[1;36m1\u001b[0m\u001b[39m<\u001b[0m\u001b[35m/\u001b[0m\u001b[95mtd\u001b[0m\u001b[39m>\u001b[0m\n",
              "\u001b[39m<\u001b[0m\u001b[35m/\u001b[0m\u001b[95mtr\u001b[0m\u001b[39m>\u001b[0m\n",
              "\u001b[39m<tr>\u001b[0m\n",
              "\u001b[39m<td>\u001b[0m\u001b[1;36m2\u001b[0m\u001b[39m<\u001b[0m\u001b[35m/\u001b[0m\u001b[95mtd\u001b[0m\u001b[39m>\u001b[0m\n",
              "\u001b[39m<td>\u001b[0m\u001b[1;36m1\u001b[0m\u001b[39m<\u001b[0m\u001b[35m/\u001b[0m\u001b[95mtd\u001b[0m\u001b[39m>\u001b[0m\n",
              "\u001b[39m<td>\u001b[0m\u001b[1;36m2022\u001b[0m\u001b[39m-\u001b[0m\u001b[1;36m08\u001b[0m\u001b[39m-\u001b[0m\u001b[1;36m01\u001b[0m\u001b[39m<\u001b[0m\u001b[35m/\u001b[0m\u001b[95mtd\u001b[0m\u001b[39m>\u001b[0m\n",
              "\u001b[39m<td>\u001b[0m\u001b[1;36m2\u001b[0m\u001b[39m<\u001b[0m\u001b[35m/\u001b[0m\u001b[95mtd\u001b[0m\u001b[39m>\u001b[0m\n",
              "\u001b[39m<\u001b[0m\u001b[35m/\u001b[0m\u001b[95mtr\u001b[0m\u001b[39m>\u001b[0m\n",
              "\u001b[39m<tr>\u001b[0m\n",
              "\u001b[39m<td>\u001b[0m\u001b[1;36m3\u001b[0m\u001b[39m<\u001b[0m\u001b[35m/\u001b[0m\u001b[95mtd\u001b[0m\u001b[39m>\u001b[0m\n",
              "\u001b[39m<td>\u001b[0m\u001b[1;36m0.1\u001b[0m\u001b[39m<\u001b[0m\u001b[35m/\u001b[0m\u001b[95mtd\u001b[0m\u001b[39m>\u001b[0m\n",
              "\u001b[39m<td>\u001b[0m\u001b[1;36m2022\u001b[0m\u001b[39m-\u001b[0m\u001b[1;36m08\u001b[0m\u001b[39m-\u001b[0m\u001b[1;36m01\u001b[0m\u001b[39m<\u001b[0m\u001b[35m/\u001b[0m\u001b[95mtd\u001b[0m\u001b[39m>\u001b[0m\n",
              "\u001b[39m<td>\u001b[0m\u001b[1;36m1\u001b[0m\u001b[39m<\u001b[0m\u001b[35m/\u001b[0m\u001b[95mtd\u001b[0m\u001b[39m>\u001b[0m\n",
              "\u001b[39m<\u001b[0m\u001b[35m/\u001b[0m\u001b[95mtr\u001b[0m\u001b[39m>\u001b[0m\n",
              "\u001b[39m<tr>\u001b[0m\n",
              "\u001b[39m<td>\u001b[0m\u001b[1;36m4\u001b[0m\u001b[39m<\u001b[0m\u001b[35m/\u001b[0m\u001b[95mtd\u001b[0m\u001b[39m>\u001b[0m\n",
              "\u001b[39m<td>\u001b[0m\u001b[1;36m0.4\u001b[0m\u001b[39m<\u001b[0m\u001b[35m/\u001b[0m\u001b[95mtd\u001b[0m\u001b[39m>\u001b[0m\n",
              "\u001b[39m<td>\u001b[0m\u001b[1;36m2022\u001b[0m\u001b[39m-\u001b[0m\u001b[1;36m08\u001b[0m\u001b[39m-\u001b[0m\u001b[1;36m01\u001b[0m\u001b[39m<\u001b[0m\u001b[35m/\u001b[0m\u001b[95mtd\u001b[0m\u001b[39m>\u001b[0m\n",
              "\u001b[39m<td>\u001b[0m\u001b[1;36m2\u001b[0m\u001b[39m<\u001b[0m\u001b[35m/\u001b[0m\u001b[95mtd\u001b[0m\u001b[39m>\u001b[0m\n",
              "\u001b[39m<\u001b[0m\u001b[35m/\u001b[0m\u001b[95mtr\u001b[0m\u001b[39m>\u001b[0m\n",
              "\u001b[39m<\u001b[0m\u001b[35m/\u001b[0m\u001b[95mtbody\u001b[0m\u001b[39m>\u001b[0m\n",
              "\u001b[39m<\u001b[0m\u001b[35m/\u001b[0m\u001b[95mtable\u001b[0m\u001b[39m>\u001b[0m\n",
              "\u001b[39m<\u001b[0m\u001b[35m/\u001b[0m\u001b[95mdiv\u001b[0m\u001b[39m>\u001b[0m\n",
              "\u001b[39m<p>Thanks in advance<\u001b[0m\u001b[35m/\u001b[0m\u001b[95mp\u001b[0m\u001b[1m>\u001b[0m\n"
            ],
            "text/html": [
              "<pre style=\"white-space:pre;overflow-x:auto;line-height:normal;font-family:Menlo,'DejaVu Sans Mono',consolas,'Courier New',monospace\">Concatenate <span style=\"color: #008080; text-decoration-color: #008080; font-weight: bold\">2</span> dataframes and repeat values from small one with pandas<span style=\"font-weight: bold\">&lt;</span><span style=\"color: #ff00ff; text-decoration-color: #ff00ff; font-weight: bold\">p</span><span style=\"color: #000000; text-decoration-color: #000000\">&gt;I have these two dataframes:&lt;</span><span style=\"color: #800080; text-decoration-color: #800080\">/</span><span style=\"color: #ff00ff; text-decoration-color: #ff00ff\">p</span><span style=\"color: #000000; text-decoration-color: #000000\">&gt;</span>\n",
              "<span style=\"color: #000000; text-decoration-color: #000000\">&lt;div </span><span style=\"color: #808000; text-decoration-color: #808000\">class</span><span style=\"color: #000000; text-decoration-color: #000000\">=</span><span style=\"color: #008000; text-decoration-color: #008000\">\"s-table-container\"</span><span style=\"color: #000000; text-decoration-color: #000000\">&gt;</span>\n",
              "<span style=\"color: #000000; text-decoration-color: #000000\">&lt;table </span><span style=\"color: #808000; text-decoration-color: #808000\">class</span><span style=\"color: #000000; text-decoration-color: #000000\">=</span><span style=\"color: #008000; text-decoration-color: #008000\">\"s-table\"</span><span style=\"color: #000000; text-decoration-color: #000000\">&gt;</span>\n",
              "<span style=\"color: #000000; text-decoration-color: #000000\">&lt;thead&gt;</span>\n",
              "<span style=\"color: #000000; text-decoration-color: #000000\">&lt;tr&gt;</span>\n",
              "<span style=\"color: #000000; text-decoration-color: #000000\">&lt;th&gt;Field1&lt;</span><span style=\"color: #800080; text-decoration-color: #800080\">/</span><span style=\"color: #ff00ff; text-decoration-color: #ff00ff\">th</span><span style=\"color: #000000; text-decoration-color: #000000\">&gt;</span>\n",
              "<span style=\"color: #000000; text-decoration-color: #000000\">&lt;th&gt;Field2&lt;</span><span style=\"color: #800080; text-decoration-color: #800080\">/</span><span style=\"color: #ff00ff; text-decoration-color: #ff00ff\">th</span><span style=\"color: #000000; text-decoration-color: #000000\">&gt;</span>\n",
              "<span style=\"color: #000000; text-decoration-color: #000000\">&lt;</span><span style=\"color: #800080; text-decoration-color: #800080\">/</span><span style=\"color: #ff00ff; text-decoration-color: #ff00ff\">tr</span><span style=\"color: #000000; text-decoration-color: #000000\">&gt;</span>\n",
              "<span style=\"color: #000000; text-decoration-color: #000000\">&lt;</span><span style=\"color: #800080; text-decoration-color: #800080\">/</span><span style=\"color: #ff00ff; text-decoration-color: #ff00ff\">thead</span><span style=\"color: #000000; text-decoration-color: #000000\">&gt;</span>\n",
              "<span style=\"color: #000000; text-decoration-color: #000000\">&lt;tbody&gt;</span>\n",
              "<span style=\"color: #000000; text-decoration-color: #000000\">&lt;tr&gt;</span>\n",
              "<span style=\"color: #000000; text-decoration-color: #000000\">&lt;td&gt;</span><span style=\"color: #008080; text-decoration-color: #008080; font-weight: bold\">0.5</span><span style=\"color: #000000; text-decoration-color: #000000\">&lt;</span><span style=\"color: #800080; text-decoration-color: #800080\">/</span><span style=\"color: #ff00ff; text-decoration-color: #ff00ff\">td</span><span style=\"color: #000000; text-decoration-color: #000000\">&gt;</span>\n",
              "<span style=\"color: #000000; text-decoration-color: #000000\">&lt;td&gt;</span><span style=\"color: #008080; text-decoration-color: #008080; font-weight: bold\">0.7</span><span style=\"color: #000000; text-decoration-color: #000000\">&lt;</span><span style=\"color: #800080; text-decoration-color: #800080\">/</span><span style=\"color: #ff00ff; text-decoration-color: #ff00ff\">td</span><span style=\"color: #000000; text-decoration-color: #000000\">&gt;</span>\n",
              "<span style=\"color: #000000; text-decoration-color: #000000\">&lt;</span><span style=\"color: #800080; text-decoration-color: #800080\">/</span><span style=\"color: #ff00ff; text-decoration-color: #ff00ff\">tr</span><span style=\"color: #000000; text-decoration-color: #000000\">&gt;</span>\n",
              "<span style=\"color: #000000; text-decoration-color: #000000\">&lt;tr&gt;</span>\n",
              "<span style=\"color: #000000; text-decoration-color: #000000\">&lt;td&gt;</span><span style=\"color: #008080; text-decoration-color: #008080; font-weight: bold\">2</span><span style=\"color: #000000; text-decoration-color: #000000\">&lt;</span><span style=\"color: #800080; text-decoration-color: #800080\">/</span><span style=\"color: #ff00ff; text-decoration-color: #ff00ff\">td</span><span style=\"color: #000000; text-decoration-color: #000000\">&gt;</span>\n",
              "<span style=\"color: #000000; text-decoration-color: #000000\">&lt;td&gt;</span><span style=\"color: #008080; text-decoration-color: #008080; font-weight: bold\">1</span><span style=\"color: #000000; text-decoration-color: #000000\">&lt;</span><span style=\"color: #800080; text-decoration-color: #800080\">/</span><span style=\"color: #ff00ff; text-decoration-color: #ff00ff\">td</span><span style=\"color: #000000; text-decoration-color: #000000\">&gt;</span>\n",
              "<span style=\"color: #000000; text-decoration-color: #000000\">&lt;</span><span style=\"color: #800080; text-decoration-color: #800080\">/</span><span style=\"color: #ff00ff; text-decoration-color: #ff00ff\">tr</span><span style=\"color: #000000; text-decoration-color: #000000\">&gt;</span>\n",
              "<span style=\"color: #000000; text-decoration-color: #000000\">&lt;tr&gt;</span>\n",
              "<span style=\"color: #000000; text-decoration-color: #000000\">&lt;td&gt;</span><span style=\"color: #008080; text-decoration-color: #008080; font-weight: bold\">3</span><span style=\"color: #000000; text-decoration-color: #000000\">&lt;</span><span style=\"color: #800080; text-decoration-color: #800080\">/</span><span style=\"color: #ff00ff; text-decoration-color: #ff00ff\">td</span><span style=\"color: #000000; text-decoration-color: #000000\">&gt;</span>\n",
              "<span style=\"color: #000000; text-decoration-color: #000000\">&lt;td&gt;</span><span style=\"color: #008080; text-decoration-color: #008080; font-weight: bold\">0.1</span><span style=\"color: #000000; text-decoration-color: #000000\">&lt;</span><span style=\"color: #800080; text-decoration-color: #800080\">/</span><span style=\"color: #ff00ff; text-decoration-color: #ff00ff\">td</span><span style=\"color: #000000; text-decoration-color: #000000\">&gt;</span>\n",
              "<span style=\"color: #000000; text-decoration-color: #000000\">&lt;</span><span style=\"color: #800080; text-decoration-color: #800080\">/</span><span style=\"color: #ff00ff; text-decoration-color: #ff00ff\">tr</span><span style=\"color: #000000; text-decoration-color: #000000\">&gt;</span>\n",
              "<span style=\"color: #000000; text-decoration-color: #000000\">&lt;tr&gt;</span>\n",
              "<span style=\"color: #000000; text-decoration-color: #000000\">&lt;td&gt;</span><span style=\"color: #008080; text-decoration-color: #008080; font-weight: bold\">4</span><span style=\"color: #000000; text-decoration-color: #000000\">&lt;</span><span style=\"color: #800080; text-decoration-color: #800080\">/</span><span style=\"color: #ff00ff; text-decoration-color: #ff00ff\">td</span><span style=\"color: #000000; text-decoration-color: #000000\">&gt;</span>\n",
              "<span style=\"color: #000000; text-decoration-color: #000000\">&lt;td&gt;</span><span style=\"color: #008080; text-decoration-color: #008080; font-weight: bold\">0.4</span><span style=\"color: #000000; text-decoration-color: #000000\">&lt;</span><span style=\"color: #800080; text-decoration-color: #800080\">/</span><span style=\"color: #ff00ff; text-decoration-color: #ff00ff\">td</span><span style=\"color: #000000; text-decoration-color: #000000\">&gt;</span>\n",
              "<span style=\"color: #000000; text-decoration-color: #000000\">&lt;</span><span style=\"color: #800080; text-decoration-color: #800080\">/</span><span style=\"color: #ff00ff; text-decoration-color: #ff00ff\">tr</span><span style=\"color: #000000; text-decoration-color: #000000\">&gt;</span>\n",
              "<span style=\"color: #000000; text-decoration-color: #000000\">&lt;</span><span style=\"color: #800080; text-decoration-color: #800080\">/</span><span style=\"color: #ff00ff; text-decoration-color: #ff00ff\">tbody</span><span style=\"color: #000000; text-decoration-color: #000000\">&gt;</span>\n",
              "<span style=\"color: #000000; text-decoration-color: #000000\">&lt;</span><span style=\"color: #800080; text-decoration-color: #800080\">/</span><span style=\"color: #ff00ff; text-decoration-color: #ff00ff\">table</span><span style=\"color: #000000; text-decoration-color: #000000\">&gt;</span>\n",
              "<span style=\"color: #000000; text-decoration-color: #000000\">&lt;</span><span style=\"color: #800080; text-decoration-color: #800080\">/</span><span style=\"color: #ff00ff; text-decoration-color: #ff00ff\">div</span><span style=\"color: #000000; text-decoration-color: #000000\">&gt;</span>\n",
              "<span style=\"color: #000000; text-decoration-color: #000000\">&lt;p&gt;and&lt;</span><span style=\"color: #800080; text-decoration-color: #800080\">/</span><span style=\"color: #ff00ff; text-decoration-color: #ff00ff\">p</span><span style=\"color: #000000; text-decoration-color: #000000\">&gt;</span>\n",
              "<span style=\"color: #000000; text-decoration-color: #000000\">&lt;div </span><span style=\"color: #808000; text-decoration-color: #808000\">class</span><span style=\"color: #000000; text-decoration-color: #000000\">=</span><span style=\"color: #008000; text-decoration-color: #008000\">\"s-table-container\"</span><span style=\"color: #000000; text-decoration-color: #000000\">&gt;</span>\n",
              "<span style=\"color: #000000; text-decoration-color: #000000\">&lt;table </span><span style=\"color: #808000; text-decoration-color: #808000\">class</span><span style=\"color: #000000; text-decoration-color: #000000\">=</span><span style=\"color: #008000; text-decoration-color: #008000\">\"s-table\"</span><span style=\"color: #000000; text-decoration-color: #000000\">&gt;</span>\n",
              "<span style=\"color: #000000; text-decoration-color: #000000\">&lt;thead&gt;</span>\n",
              "<span style=\"color: #000000; text-decoration-color: #000000\">&lt;tr&gt;</span>\n",
              "<span style=\"color: #000000; text-decoration-color: #000000\">&lt;th&gt;Date&lt;</span><span style=\"color: #800080; text-decoration-color: #800080\">/</span><span style=\"color: #ff00ff; text-decoration-color: #ff00ff\">th</span><span style=\"color: #000000; text-decoration-color: #000000\">&gt;</span>\n",
              "<span style=\"color: #000000; text-decoration-color: #000000\">&lt;th&gt;Time&lt;</span><span style=\"color: #800080; text-decoration-color: #800080\">/</span><span style=\"color: #ff00ff; text-decoration-color: #ff00ff\">th</span><span style=\"color: #000000; text-decoration-color: #000000\">&gt;</span>\n",
              "<span style=\"color: #000000; text-decoration-color: #000000\">&lt;</span><span style=\"color: #800080; text-decoration-color: #800080\">/</span><span style=\"color: #ff00ff; text-decoration-color: #ff00ff\">tr</span><span style=\"color: #000000; text-decoration-color: #000000\">&gt;</span>\n",
              "<span style=\"color: #000000; text-decoration-color: #000000\">&lt;</span><span style=\"color: #800080; text-decoration-color: #800080\">/</span><span style=\"color: #ff00ff; text-decoration-color: #ff00ff\">thead</span><span style=\"color: #000000; text-decoration-color: #000000\">&gt;</span>\n",
              "<span style=\"color: #000000; text-decoration-color: #000000\">&lt;tbody&gt;</span>\n",
              "<span style=\"color: #000000; text-decoration-color: #000000\">&lt;tr&gt;</span>\n",
              "<span style=\"color: #000000; text-decoration-color: #000000\">&lt;td&gt;</span><span style=\"color: #008080; text-decoration-color: #008080; font-weight: bold\">2022</span><span style=\"color: #000000; text-decoration-color: #000000\">-</span><span style=\"color: #008080; text-decoration-color: #008080; font-weight: bold\">08</span><span style=\"color: #000000; text-decoration-color: #000000\">-</span><span style=\"color: #008080; text-decoration-color: #008080; font-weight: bold\">01</span><span style=\"color: #000000; text-decoration-color: #000000\">&lt;</span><span style=\"color: #800080; text-decoration-color: #800080\">/</span><span style=\"color: #ff00ff; text-decoration-color: #ff00ff\">td</span><span style=\"color: #000000; text-decoration-color: #000000\">&gt;</span>\n",
              "<span style=\"color: #000000; text-decoration-color: #000000\">&lt;td&gt;</span><span style=\"color: #008080; text-decoration-color: #008080; font-weight: bold\">1</span><span style=\"color: #000000; text-decoration-color: #000000\">&lt;</span><span style=\"color: #800080; text-decoration-color: #800080\">/</span><span style=\"color: #ff00ff; text-decoration-color: #ff00ff\">td</span><span style=\"color: #000000; text-decoration-color: #000000\">&gt;</span>\n",
              "<span style=\"color: #000000; text-decoration-color: #000000\">&lt;</span><span style=\"color: #800080; text-decoration-color: #800080\">/</span><span style=\"color: #ff00ff; text-decoration-color: #ff00ff\">tr</span><span style=\"color: #000000; text-decoration-color: #000000\">&gt;</span>\n",
              "<span style=\"color: #000000; text-decoration-color: #000000\">&lt;tr&gt;</span>\n",
              "<span style=\"color: #000000; text-decoration-color: #000000\">&lt;td&gt;</span><span style=\"color: #008080; text-decoration-color: #008080; font-weight: bold\">2022</span><span style=\"color: #000000; text-decoration-color: #000000\">-</span><span style=\"color: #008080; text-decoration-color: #008080; font-weight: bold\">08</span><span style=\"color: #000000; text-decoration-color: #000000\">-</span><span style=\"color: #008080; text-decoration-color: #008080; font-weight: bold\">01</span><span style=\"color: #000000; text-decoration-color: #000000\">&lt;</span><span style=\"color: #800080; text-decoration-color: #800080\">/</span><span style=\"color: #ff00ff; text-decoration-color: #ff00ff\">td</span><span style=\"color: #000000; text-decoration-color: #000000\">&gt;</span>\n",
              "<span style=\"color: #000000; text-decoration-color: #000000\">&lt;td&gt;</span><span style=\"color: #008080; text-decoration-color: #008080; font-weight: bold\">2</span><span style=\"color: #000000; text-decoration-color: #000000\">&lt;</span><span style=\"color: #800080; text-decoration-color: #800080\">/</span><span style=\"color: #ff00ff; text-decoration-color: #ff00ff\">td</span><span style=\"color: #000000; text-decoration-color: #000000\">&gt;</span>\n",
              "<span style=\"color: #000000; text-decoration-color: #000000\">&lt;</span><span style=\"color: #800080; text-decoration-color: #800080\">/</span><span style=\"color: #ff00ff; text-decoration-color: #ff00ff\">tr</span><span style=\"color: #000000; text-decoration-color: #000000\">&gt;</span>\n",
              "<span style=\"color: #000000; text-decoration-color: #000000\">&lt;</span><span style=\"color: #800080; text-decoration-color: #800080\">/</span><span style=\"color: #ff00ff; text-decoration-color: #ff00ff\">tbody</span><span style=\"color: #000000; text-decoration-color: #000000\">&gt;</span>\n",
              "<span style=\"color: #000000; text-decoration-color: #000000\">&lt;</span><span style=\"color: #800080; text-decoration-color: #800080\">/</span><span style=\"color: #ff00ff; text-decoration-color: #ff00ff\">table</span><span style=\"color: #000000; text-decoration-color: #000000\">&gt;</span>\n",
              "<span style=\"color: #000000; text-decoration-color: #000000\">&lt;</span><span style=\"color: #800080; text-decoration-color: #800080\">/</span><span style=\"color: #ff00ff; text-decoration-color: #ff00ff\">div</span><span style=\"color: #000000; text-decoration-color: #000000\">&gt;</span>\n",
              "<span style=\"color: #000000; text-decoration-color: #000000\">&lt;p&gt;and a I need to obtain the following:&lt;</span><span style=\"color: #800080; text-decoration-color: #800080\">/</span><span style=\"color: #ff00ff; text-decoration-color: #ff00ff\">p</span><span style=\"color: #000000; text-decoration-color: #000000\">&gt;</span>\n",
              "<span style=\"color: #000000; text-decoration-color: #000000\">&lt;div </span><span style=\"color: #808000; text-decoration-color: #808000\">class</span><span style=\"color: #000000; text-decoration-color: #000000\">=</span><span style=\"color: #008000; text-decoration-color: #008000\">\"s-table-container\"</span><span style=\"color: #000000; text-decoration-color: #000000\">&gt;</span>\n",
              "<span style=\"color: #000000; text-decoration-color: #000000\">&lt;table </span><span style=\"color: #808000; text-decoration-color: #808000\">class</span><span style=\"color: #000000; text-decoration-color: #000000\">=</span><span style=\"color: #008000; text-decoration-color: #008000\">\"s-table\"</span><span style=\"color: #000000; text-decoration-color: #000000\">&gt;</span>\n",
              "<span style=\"color: #000000; text-decoration-color: #000000\">&lt;thead&gt;</span>\n",
              "<span style=\"color: #000000; text-decoration-color: #000000\">&lt;tr&gt;</span>\n",
              "<span style=\"color: #000000; text-decoration-color: #000000\">&lt;th&gt;Field1&lt;</span><span style=\"color: #800080; text-decoration-color: #800080\">/</span><span style=\"color: #ff00ff; text-decoration-color: #ff00ff\">th</span><span style=\"color: #000000; text-decoration-color: #000000\">&gt;</span>\n",
              "<span style=\"color: #000000; text-decoration-color: #000000\">&lt;th&gt;Field2&lt;</span><span style=\"color: #800080; text-decoration-color: #800080\">/</span><span style=\"color: #ff00ff; text-decoration-color: #ff00ff\">th</span><span style=\"color: #000000; text-decoration-color: #000000\">&gt;</span>\n",
              "<span style=\"color: #000000; text-decoration-color: #000000\">&lt;th&gt;Date&lt;</span><span style=\"color: #800080; text-decoration-color: #800080\">/</span><span style=\"color: #ff00ff; text-decoration-color: #ff00ff\">th</span><span style=\"color: #000000; text-decoration-color: #000000\">&gt;</span>\n",
              "<span style=\"color: #000000; text-decoration-color: #000000\">&lt;th&gt;Time&lt;</span><span style=\"color: #800080; text-decoration-color: #800080\">/</span><span style=\"color: #ff00ff; text-decoration-color: #ff00ff\">th</span><span style=\"color: #000000; text-decoration-color: #000000\">&gt;</span>\n",
              "<span style=\"color: #000000; text-decoration-color: #000000\">&lt;</span><span style=\"color: #800080; text-decoration-color: #800080\">/</span><span style=\"color: #ff00ff; text-decoration-color: #ff00ff\">tr</span><span style=\"color: #000000; text-decoration-color: #000000\">&gt;</span>\n",
              "<span style=\"color: #000000; text-decoration-color: #000000\">&lt;</span><span style=\"color: #800080; text-decoration-color: #800080\">/</span><span style=\"color: #ff00ff; text-decoration-color: #ff00ff\">thead</span><span style=\"color: #000000; text-decoration-color: #000000\">&gt;</span>\n",
              "<span style=\"color: #000000; text-decoration-color: #000000\">&lt;tbody&gt;</span>\n",
              "<span style=\"color: #000000; text-decoration-color: #000000\">&lt;tr&gt;</span>\n",
              "<span style=\"color: #000000; text-decoration-color: #000000\">&lt;td&gt;</span><span style=\"color: #008080; text-decoration-color: #008080; font-weight: bold\">0.5</span><span style=\"color: #000000; text-decoration-color: #000000\">&lt;</span><span style=\"color: #800080; text-decoration-color: #800080\">/</span><span style=\"color: #ff00ff; text-decoration-color: #ff00ff\">td</span><span style=\"color: #000000; text-decoration-color: #000000\">&gt;</span>\n",
              "<span style=\"color: #000000; text-decoration-color: #000000\">&lt;td&gt;</span><span style=\"color: #008080; text-decoration-color: #008080; font-weight: bold\">0.7</span><span style=\"color: #000000; text-decoration-color: #000000\">&lt;</span><span style=\"color: #800080; text-decoration-color: #800080\">/</span><span style=\"color: #ff00ff; text-decoration-color: #ff00ff\">td</span><span style=\"color: #000000; text-decoration-color: #000000\">&gt;</span>\n",
              "<span style=\"color: #000000; text-decoration-color: #000000\">&lt;td&gt;</span><span style=\"color: #008080; text-decoration-color: #008080; font-weight: bold\">2022</span><span style=\"color: #000000; text-decoration-color: #000000\">-</span><span style=\"color: #008080; text-decoration-color: #008080; font-weight: bold\">08</span><span style=\"color: #000000; text-decoration-color: #000000\">-</span><span style=\"color: #008080; text-decoration-color: #008080; font-weight: bold\">01</span><span style=\"color: #000000; text-decoration-color: #000000\">&lt;</span><span style=\"color: #800080; text-decoration-color: #800080\">/</span><span style=\"color: #ff00ff; text-decoration-color: #ff00ff\">td</span><span style=\"color: #000000; text-decoration-color: #000000\">&gt;</span>\n",
              "<span style=\"color: #000000; text-decoration-color: #000000\">&lt;td&gt;</span><span style=\"color: #008080; text-decoration-color: #008080; font-weight: bold\">1</span><span style=\"color: #000000; text-decoration-color: #000000\">&lt;</span><span style=\"color: #800080; text-decoration-color: #800080\">/</span><span style=\"color: #ff00ff; text-decoration-color: #ff00ff\">td</span><span style=\"color: #000000; text-decoration-color: #000000\">&gt;</span>\n",
              "<span style=\"color: #000000; text-decoration-color: #000000\">&lt;</span><span style=\"color: #800080; text-decoration-color: #800080\">/</span><span style=\"color: #ff00ff; text-decoration-color: #ff00ff\">tr</span><span style=\"color: #000000; text-decoration-color: #000000\">&gt;</span>\n",
              "<span style=\"color: #000000; text-decoration-color: #000000\">&lt;tr&gt;</span>\n",
              "<span style=\"color: #000000; text-decoration-color: #000000\">&lt;td&gt;</span><span style=\"color: #008080; text-decoration-color: #008080; font-weight: bold\">2</span><span style=\"color: #000000; text-decoration-color: #000000\">&lt;</span><span style=\"color: #800080; text-decoration-color: #800080\">/</span><span style=\"color: #ff00ff; text-decoration-color: #ff00ff\">td</span><span style=\"color: #000000; text-decoration-color: #000000\">&gt;</span>\n",
              "<span style=\"color: #000000; text-decoration-color: #000000\">&lt;td&gt;</span><span style=\"color: #008080; text-decoration-color: #008080; font-weight: bold\">1</span><span style=\"color: #000000; text-decoration-color: #000000\">&lt;</span><span style=\"color: #800080; text-decoration-color: #800080\">/</span><span style=\"color: #ff00ff; text-decoration-color: #ff00ff\">td</span><span style=\"color: #000000; text-decoration-color: #000000\">&gt;</span>\n",
              "<span style=\"color: #000000; text-decoration-color: #000000\">&lt;td&gt;</span><span style=\"color: #008080; text-decoration-color: #008080; font-weight: bold\">2022</span><span style=\"color: #000000; text-decoration-color: #000000\">-</span><span style=\"color: #008080; text-decoration-color: #008080; font-weight: bold\">08</span><span style=\"color: #000000; text-decoration-color: #000000\">-</span><span style=\"color: #008080; text-decoration-color: #008080; font-weight: bold\">01</span><span style=\"color: #000000; text-decoration-color: #000000\">&lt;</span><span style=\"color: #800080; text-decoration-color: #800080\">/</span><span style=\"color: #ff00ff; text-decoration-color: #ff00ff\">td</span><span style=\"color: #000000; text-decoration-color: #000000\">&gt;</span>\n",
              "<span style=\"color: #000000; text-decoration-color: #000000\">&lt;td&gt;</span><span style=\"color: #008080; text-decoration-color: #008080; font-weight: bold\">2</span><span style=\"color: #000000; text-decoration-color: #000000\">&lt;</span><span style=\"color: #800080; text-decoration-color: #800080\">/</span><span style=\"color: #ff00ff; text-decoration-color: #ff00ff\">td</span><span style=\"color: #000000; text-decoration-color: #000000\">&gt;</span>\n",
              "<span style=\"color: #000000; text-decoration-color: #000000\">&lt;</span><span style=\"color: #800080; text-decoration-color: #800080\">/</span><span style=\"color: #ff00ff; text-decoration-color: #ff00ff\">tr</span><span style=\"color: #000000; text-decoration-color: #000000\">&gt;</span>\n",
              "<span style=\"color: #000000; text-decoration-color: #000000\">&lt;tr&gt;</span>\n",
              "<span style=\"color: #000000; text-decoration-color: #000000\">&lt;td&gt;</span><span style=\"color: #008080; text-decoration-color: #008080; font-weight: bold\">3</span><span style=\"color: #000000; text-decoration-color: #000000\">&lt;</span><span style=\"color: #800080; text-decoration-color: #800080\">/</span><span style=\"color: #ff00ff; text-decoration-color: #ff00ff\">td</span><span style=\"color: #000000; text-decoration-color: #000000\">&gt;</span>\n",
              "<span style=\"color: #000000; text-decoration-color: #000000\">&lt;td&gt;</span><span style=\"color: #008080; text-decoration-color: #008080; font-weight: bold\">0.1</span><span style=\"color: #000000; text-decoration-color: #000000\">&lt;</span><span style=\"color: #800080; text-decoration-color: #800080\">/</span><span style=\"color: #ff00ff; text-decoration-color: #ff00ff\">td</span><span style=\"color: #000000; text-decoration-color: #000000\">&gt;</span>\n",
              "<span style=\"color: #000000; text-decoration-color: #000000\">&lt;td&gt;</span><span style=\"color: #008080; text-decoration-color: #008080; font-weight: bold\">2022</span><span style=\"color: #000000; text-decoration-color: #000000\">-</span><span style=\"color: #008080; text-decoration-color: #008080; font-weight: bold\">08</span><span style=\"color: #000000; text-decoration-color: #000000\">-</span><span style=\"color: #008080; text-decoration-color: #008080; font-weight: bold\">01</span><span style=\"color: #000000; text-decoration-color: #000000\">&lt;</span><span style=\"color: #800080; text-decoration-color: #800080\">/</span><span style=\"color: #ff00ff; text-decoration-color: #ff00ff\">td</span><span style=\"color: #000000; text-decoration-color: #000000\">&gt;</span>\n",
              "<span style=\"color: #000000; text-decoration-color: #000000\">&lt;td&gt;</span><span style=\"color: #008080; text-decoration-color: #008080; font-weight: bold\">1</span><span style=\"color: #000000; text-decoration-color: #000000\">&lt;</span><span style=\"color: #800080; text-decoration-color: #800080\">/</span><span style=\"color: #ff00ff; text-decoration-color: #ff00ff\">td</span><span style=\"color: #000000; text-decoration-color: #000000\">&gt;</span>\n",
              "<span style=\"color: #000000; text-decoration-color: #000000\">&lt;</span><span style=\"color: #800080; text-decoration-color: #800080\">/</span><span style=\"color: #ff00ff; text-decoration-color: #ff00ff\">tr</span><span style=\"color: #000000; text-decoration-color: #000000\">&gt;</span>\n",
              "<span style=\"color: #000000; text-decoration-color: #000000\">&lt;tr&gt;</span>\n",
              "<span style=\"color: #000000; text-decoration-color: #000000\">&lt;td&gt;</span><span style=\"color: #008080; text-decoration-color: #008080; font-weight: bold\">4</span><span style=\"color: #000000; text-decoration-color: #000000\">&lt;</span><span style=\"color: #800080; text-decoration-color: #800080\">/</span><span style=\"color: #ff00ff; text-decoration-color: #ff00ff\">td</span><span style=\"color: #000000; text-decoration-color: #000000\">&gt;</span>\n",
              "<span style=\"color: #000000; text-decoration-color: #000000\">&lt;td&gt;</span><span style=\"color: #008080; text-decoration-color: #008080; font-weight: bold\">0.4</span><span style=\"color: #000000; text-decoration-color: #000000\">&lt;</span><span style=\"color: #800080; text-decoration-color: #800080\">/</span><span style=\"color: #ff00ff; text-decoration-color: #ff00ff\">td</span><span style=\"color: #000000; text-decoration-color: #000000\">&gt;</span>\n",
              "<span style=\"color: #000000; text-decoration-color: #000000\">&lt;td&gt;</span><span style=\"color: #008080; text-decoration-color: #008080; font-weight: bold\">2022</span><span style=\"color: #000000; text-decoration-color: #000000\">-</span><span style=\"color: #008080; text-decoration-color: #008080; font-weight: bold\">08</span><span style=\"color: #000000; text-decoration-color: #000000\">-</span><span style=\"color: #008080; text-decoration-color: #008080; font-weight: bold\">01</span><span style=\"color: #000000; text-decoration-color: #000000\">&lt;</span><span style=\"color: #800080; text-decoration-color: #800080\">/</span><span style=\"color: #ff00ff; text-decoration-color: #ff00ff\">td</span><span style=\"color: #000000; text-decoration-color: #000000\">&gt;</span>\n",
              "<span style=\"color: #000000; text-decoration-color: #000000\">&lt;td&gt;</span><span style=\"color: #008080; text-decoration-color: #008080; font-weight: bold\">2</span><span style=\"color: #000000; text-decoration-color: #000000\">&lt;</span><span style=\"color: #800080; text-decoration-color: #800080\">/</span><span style=\"color: #ff00ff; text-decoration-color: #ff00ff\">td</span><span style=\"color: #000000; text-decoration-color: #000000\">&gt;</span>\n",
              "<span style=\"color: #000000; text-decoration-color: #000000\">&lt;</span><span style=\"color: #800080; text-decoration-color: #800080\">/</span><span style=\"color: #ff00ff; text-decoration-color: #ff00ff\">tr</span><span style=\"color: #000000; text-decoration-color: #000000\">&gt;</span>\n",
              "<span style=\"color: #000000; text-decoration-color: #000000\">&lt;</span><span style=\"color: #800080; text-decoration-color: #800080\">/</span><span style=\"color: #ff00ff; text-decoration-color: #ff00ff\">tbody</span><span style=\"color: #000000; text-decoration-color: #000000\">&gt;</span>\n",
              "<span style=\"color: #000000; text-decoration-color: #000000\">&lt;</span><span style=\"color: #800080; text-decoration-color: #800080\">/</span><span style=\"color: #ff00ff; text-decoration-color: #ff00ff\">table</span><span style=\"color: #000000; text-decoration-color: #000000\">&gt;</span>\n",
              "<span style=\"color: #000000; text-decoration-color: #000000\">&lt;</span><span style=\"color: #800080; text-decoration-color: #800080\">/</span><span style=\"color: #ff00ff; text-decoration-color: #ff00ff\">div</span><span style=\"color: #000000; text-decoration-color: #000000\">&gt;</span>\n",
              "<span style=\"color: #000000; text-decoration-color: #000000\">&lt;p&gt;Thanks in advance&lt;</span><span style=\"color: #800080; text-decoration-color: #800080\">/</span><span style=\"color: #ff00ff; text-decoration-color: #ff00ff\">p</span><span style=\"font-weight: bold\">&gt;</span>\n",
              "</pre>\n"
            ]
          },
          "metadata": {}
        }
      ]
    },
    {
      "cell_type": "code",
      "source": [
        "console.print(so_df.output_text[index_doc_cosine])"
      ],
      "metadata": {
        "colab": {
          "base_uri": "https://localhost:8080/",
          "height": 721
        },
        "id": "z8Wb7YXNg3gV",
        "outputId": "0e29e591-3389-4280-b467-73529784b70b"
      },
      "execution_count": null,
      "outputs": [
        {
          "output_type": "display_data",
          "data": {
            "text/plain": [
              "\u001b[1m<\u001b[0m\u001b[1;95mp\u001b[0m\u001b[39m>You can elongate your second dataframe to match dimentions, and then concatenate it with first dataframe.<\u001b[0m\u001b[35m/\u001b[0m\u001b[95mp\u001b[0m\u001b[39m>\u001b[0m\n",
              "\u001b[39m<pre \u001b[0m\u001b[33mclass\u001b[0m\u001b[39m=\u001b[0m\u001b[32m\"lang\u001b[0m\u001b[32m-py prettyprint-override\"\u001b[0m\u001b[39m><code>import pandas as pd\u001b[0m\n",
              "\n",
              "\u001b[39mdf1 = \u001b[0m\u001b[1;35mpd.DataFrame\u001b[0m\u001b[1;39m(\u001b[0m\u001b[1;39m{\u001b[0m\u001b[32m'Field1'\u001b[0m\u001b[39m: \u001b[0m\u001b[1;39m[\u001b[0m\u001b[1;36m0.5\u001b[0m\u001b[39m, \u001b[0m\u001b[1;36m2\u001b[0m\u001b[39m, \u001b[0m\u001b[1;36m3\u001b[0m\u001b[39m, \u001b[0m\u001b[1;36m4\u001b[0m\u001b[1;39m]\u001b[0m\u001b[39m, \u001b[0m\u001b[32m'Field2'\u001b[0m\u001b[39m: \u001b[0m\u001b[1;39m[\u001b[0m\u001b[1;36m0.7\u001b[0m\u001b[39m, \u001b[0m\u001b[1;36m1\u001b[0m\u001b[39m, \u001b[0m\u001b[1;36m0.1\u001b[0m\u001b[39m, \u001b[0m\u001b[1;36m0.4\u001b[0m\u001b[1;39m]\u001b[0m\u001b[1;39m}\u001b[0m\u001b[1;39m)\u001b[0m\n",
              "\u001b[1;35mprint\u001b[0m\u001b[1;39m(\u001b[0m\u001b[39mdf1\u001b[0m\u001b[1;39m)\u001b[0m\n",
              "\u001b[39m#    Field1  Field2\u001b[0m\n",
              "\u001b[39m# \u001b[0m\u001b[1;36m0\u001b[0m\u001b[39m     \u001b[0m\u001b[1;36m0.5\u001b[0m\u001b[39m     \u001b[0m\u001b[1;36m0.7\u001b[0m\n",
              "\u001b[39m# \u001b[0m\u001b[1;36m1\u001b[0m\u001b[39m     \u001b[0m\u001b[1;36m2.0\u001b[0m\u001b[39m     \u001b[0m\u001b[1;36m1.0\u001b[0m\n",
              "\u001b[39m# \u001b[0m\u001b[1;36m2\u001b[0m\u001b[39m     \u001b[0m\u001b[1;36m3.0\u001b[0m\u001b[39m     \u001b[0m\u001b[1;36m0.1\u001b[0m\n",
              "\u001b[39m# \u001b[0m\u001b[1;36m3\u001b[0m\u001b[39m     \u001b[0m\u001b[1;36m4.0\u001b[0m\u001b[39m     \u001b[0m\u001b[1;36m0.4\u001b[0m\n",
              "\n",
              "\u001b[39mdf2 = \u001b[0m\u001b[1;35mpd.DataFrame\u001b[0m\u001b[1;39m(\u001b[0m\u001b[1;39m{\u001b[0m\u001b[32m'Date'\u001b[0m\u001b[39m: \u001b[0m\u001b[1;39m[\u001b[0m\u001b[32m'2022-08-01'\u001b[0m\u001b[39m, \u001b[0m\u001b[32m'2022-08-01'\u001b[0m\u001b[1;39m]\u001b[0m\u001b[39m, \u001b[0m\u001b[32m'Time'\u001b[0m\u001b[39m: \u001b[0m\u001b[1;39m[\u001b[0m\u001b[1;36m1\u001b[0m\u001b[39m, \u001b[0m\u001b[1;36m2\u001b[0m\u001b[1;39m]\u001b[0m\u001b[1;39m}\u001b[0m\u001b[1;39m)\u001b[0m\n",
              "\u001b[1;35mprint\u001b[0m\u001b[1;39m(\u001b[0m\u001b[39mdf2\u001b[0m\u001b[1;39m)\u001b[0m\n",
              "\u001b[39m#          Date  Time\u001b[0m\n",
              "\u001b[39m# \u001b[0m\u001b[1;36m0\u001b[0m\u001b[39m  \u001b[0m\u001b[1;36m2022\u001b[0m\u001b[39m-\u001b[0m\u001b[1;36m08\u001b[0m\u001b[39m-\u001b[0m\u001b[1;36m01\u001b[0m\u001b[39m     \u001b[0m\u001b[1;36m1\u001b[0m\n",
              "\u001b[39m# \u001b[0m\u001b[1;36m1\u001b[0m\u001b[39m  \u001b[0m\u001b[1;36m2022\u001b[0m\u001b[39m-\u001b[0m\u001b[1;36m08\u001b[0m\u001b[39m-\u001b[0m\u001b[1;36m01\u001b[0m\u001b[39m     \u001b[0m\u001b[1;36m2\u001b[0m\n",
              "\n",
              "\u001b[39mn = \u001b[0m\u001b[1;35mint\u001b[0m\u001b[1;39m(\u001b[0m\u001b[39mdf1.size \u001b[0m\u001b[35m/\u001b[0m\u001b[39m df2.size\u001b[0m\u001b[1;39m)\u001b[0m\n",
              "\u001b[39mdf3 = \u001b[0m\u001b[1;35mpd.concat\u001b[0m\u001b[1;39m(\u001b[0m\u001b[39m * n, \u001b[0m\u001b[33maxis\u001b[0m\u001b[39m=\u001b[0m\u001b[1;36m0\u001b[0m\u001b[1;39m)\u001b[0m\u001b[1;35m.reset_index\u001b[0m\u001b[1;39m(\u001b[0m\u001b[33mdrop\u001b[0m\u001b[39m=\u001b[0m\u001b[3;92mTrue\u001b[0m\u001b[1;39m)\u001b[0m\n",
              "\u001b[1;35mprint\u001b[0m\u001b[1;39m(\u001b[0m\u001b[39mdf3\u001b[0m\u001b[1;39m)\u001b[0m\n",
              "\u001b[39m#          Date  Time\u001b[0m\n",
              "\u001b[39m# \u001b[0m\u001b[1;36m0\u001b[0m\u001b[39m  \u001b[0m\u001b[1;36m2022\u001b[0m\u001b[39m-\u001b[0m\u001b[1;36m08\u001b[0m\u001b[39m-\u001b[0m\u001b[1;36m01\u001b[0m\u001b[39m     \u001b[0m\u001b[1;36m1\u001b[0m\n",
              "\u001b[39m# \u001b[0m\u001b[1;36m1\u001b[0m\u001b[39m  \u001b[0m\u001b[1;36m2022\u001b[0m\u001b[39m-\u001b[0m\u001b[1;36m08\u001b[0m\u001b[39m-\u001b[0m\u001b[1;36m01\u001b[0m\u001b[39m     \u001b[0m\u001b[1;36m2\u001b[0m\n",
              "\u001b[39m# \u001b[0m\u001b[1;36m2\u001b[0m\u001b[39m  \u001b[0m\u001b[1;36m2022\u001b[0m\u001b[39m-\u001b[0m\u001b[1;36m08\u001b[0m\u001b[39m-\u001b[0m\u001b[1;36m01\u001b[0m\u001b[39m     \u001b[0m\u001b[1;36m1\u001b[0m\n",
              "\u001b[39m# \u001b[0m\u001b[1;36m3\u001b[0m\u001b[39m  \u001b[0m\u001b[1;36m2022\u001b[0m\u001b[39m-\u001b[0m\u001b[1;36m08\u001b[0m\u001b[39m-\u001b[0m\u001b[1;36m01\u001b[0m\u001b[39m     \u001b[0m\u001b[1;36m2\u001b[0m\n",
              "\n",
              "\u001b[39mdf4 = \u001b[0m\u001b[1;35mpd.concat\u001b[0m\u001b[1;39m(\u001b[0m\u001b[39m, \u001b[0m\u001b[33maxis\u001b[0m\u001b[39m=\u001b[0m\u001b[1;36m1\u001b[0m\u001b[1;39m)\u001b[0m\n",
              "\u001b[1;35mprint\u001b[0m\u001b[1;39m(\u001b[0m\u001b[39mdf4\u001b[0m\u001b[1;39m)\u001b[0m\n",
              "\u001b[39m#    Field1  Field2        Date  Time\u001b[0m\n",
              "\u001b[39m# \u001b[0m\u001b[1;36m0\u001b[0m\u001b[39m     \u001b[0m\u001b[1;36m0.5\u001b[0m\u001b[39m     \u001b[0m\u001b[1;36m0.7\u001b[0m\u001b[39m  \u001b[0m\u001b[1;36m2022\u001b[0m\u001b[39m-\u001b[0m\u001b[1;36m08\u001b[0m\u001b[39m-\u001b[0m\u001b[1;36m01\u001b[0m\u001b[39m     \u001b[0m\u001b[1;36m1\u001b[0m\n",
              "\u001b[39m# \u001b[0m\u001b[1;36m1\u001b[0m\u001b[39m     \u001b[0m\u001b[1;36m2.0\u001b[0m\u001b[39m     \u001b[0m\u001b[1;36m1.0\u001b[0m\u001b[39m  \u001b[0m\u001b[1;36m2022\u001b[0m\u001b[39m-\u001b[0m\u001b[1;36m08\u001b[0m\u001b[39m-\u001b[0m\u001b[1;36m01\u001b[0m\u001b[39m     \u001b[0m\u001b[1;36m2\u001b[0m\n",
              "\u001b[39m# \u001b[0m\u001b[1;36m2\u001b[0m\u001b[39m     \u001b[0m\u001b[1;36m3.0\u001b[0m\u001b[39m     \u001b[0m\u001b[1;36m0.1\u001b[0m\u001b[39m  \u001b[0m\u001b[1;36m2022\u001b[0m\u001b[39m-\u001b[0m\u001b[1;36m08\u001b[0m\u001b[39m-\u001b[0m\u001b[1;36m01\u001b[0m\u001b[39m     \u001b[0m\u001b[1;36m1\u001b[0m\n",
              "\u001b[39m# \u001b[0m\u001b[1;36m3\u001b[0m\u001b[39m     \u001b[0m\u001b[1;36m4.0\u001b[0m\u001b[39m     \u001b[0m\u001b[1;36m0.4\u001b[0m\u001b[39m  \u001b[0m\u001b[1;36m2022\u001b[0m\u001b[39m-\u001b[0m\u001b[1;36m08\u001b[0m\u001b[39m-\u001b[0m\u001b[1;36m01\u001b[0m\u001b[39m     \u001b[0m\u001b[1;36m2\u001b[0m\n",
              "\u001b[39m<\u001b[0m\u001b[35m/\u001b[0m\u001b[95mcode\u001b[0m\u001b[39m><\u001b[0m\u001b[35m/\u001b[0m\u001b[95mpre\u001b[0m\u001b[39m>\u001b[0m\n",
              "\u001b[39m<p>or shorter:<\u001b[0m\u001b[35m/\u001b[0m\u001b[95mp\u001b[0m\u001b[39m>\u001b[0m\n",
              "\u001b[39m<pre \u001b[0m\u001b[33mclass\u001b[0m\u001b[39m=\u001b[0m\u001b[32m\"lang\u001b[0m\u001b[32m-py prettyprint-override\"\u001b[0m\u001b[39m><code>df4 = \u001b[0m\u001b[1;35mpd.concat\u001b[0m\u001b[1;39m(\u001b[0m\u001b[1;39m[\u001b[0m\n",
              "\u001b[39m    df1,\u001b[0m\n",
              "\u001b[39m    \u001b[0m\u001b[1;35mpd.concat\u001b[0m\u001b[1;39m(\u001b[0m\n",
              "\u001b[39m        \u001b[0m\u001b[39m * \u001b[0m\u001b[1;35mint\u001b[0m\u001b[1;39m(\u001b[0m\u001b[39mdf1.size \u001b[0m\u001b[35m/\u001b[0m\u001b[39m df2.size\u001b[0m\u001b[1;39m)\u001b[0m\u001b[39m,\u001b[0m\n",
              "\u001b[39m        \u001b[0m\u001b[33maxis\u001b[0m\u001b[39m=\u001b[0m\u001b[1;36m0\u001b[0m\n",
              "\u001b[39m    \u001b[0m\u001b[1;39m)\u001b[0m\u001b[1;35m.reset_index\u001b[0m\u001b[1;39m(\u001b[0m\u001b[33mdrop\u001b[0m\u001b[39m=\u001b[0m\u001b[3;92mTrue\u001b[0m\u001b[1;39m)\u001b[0m\n",
              "\u001b[1;39m]\u001b[0m\u001b[39m, \u001b[0m\u001b[33maxis\u001b[0m\u001b[39m=\u001b[0m\u001b[1;36m1\u001b[0m\u001b[1;39m)\u001b[0m\n",
              "\u001b[39m<\u001b[0m\u001b[35m/\u001b[0m\u001b[95mcode\u001b[0m\u001b[39m><\u001b[0m\u001b[35m/\u001b[0m\u001b[95mpre\u001b[0m\u001b[1m>\u001b[0m\n"
            ],
            "text/html": [
              "<pre style=\"white-space:pre;overflow-x:auto;line-height:normal;font-family:Menlo,'DejaVu Sans Mono',consolas,'Courier New',monospace\"><span style=\"font-weight: bold\">&lt;</span><span style=\"color: #ff00ff; text-decoration-color: #ff00ff; font-weight: bold\">p</span><span style=\"color: #000000; text-decoration-color: #000000\">&gt;You can elongate your second dataframe to match dimentions, and then concatenate it with first dataframe.&lt;</span><span style=\"color: #800080; text-decoration-color: #800080\">/</span><span style=\"color: #ff00ff; text-decoration-color: #ff00ff\">p</span><span style=\"color: #000000; text-decoration-color: #000000\">&gt;</span>\n",
              "<span style=\"color: #000000; text-decoration-color: #000000\">&lt;pre </span><span style=\"color: #808000; text-decoration-color: #808000\">class</span><span style=\"color: #000000; text-decoration-color: #000000\">=</span><span style=\"color: #008000; text-decoration-color: #008000\">\"lang-py prettyprint-override\"</span><span style=\"color: #000000; text-decoration-color: #000000\">&gt;&lt;code&gt;import pandas as pd</span>\n",
              "\n",
              "<span style=\"color: #000000; text-decoration-color: #000000\">df1 = </span><span style=\"color: #800080; text-decoration-color: #800080; font-weight: bold\">pd.DataFrame</span><span style=\"color: #000000; text-decoration-color: #000000; font-weight: bold\">({</span><span style=\"color: #008000; text-decoration-color: #008000\">'Field1'</span><span style=\"color: #000000; text-decoration-color: #000000\">: </span><span style=\"color: #000000; text-decoration-color: #000000; font-weight: bold\">[</span><span style=\"color: #008080; text-decoration-color: #008080; font-weight: bold\">0.5</span><span style=\"color: #000000; text-decoration-color: #000000\">, </span><span style=\"color: #008080; text-decoration-color: #008080; font-weight: bold\">2</span><span style=\"color: #000000; text-decoration-color: #000000\">, </span><span style=\"color: #008080; text-decoration-color: #008080; font-weight: bold\">3</span><span style=\"color: #000000; text-decoration-color: #000000\">, </span><span style=\"color: #008080; text-decoration-color: #008080; font-weight: bold\">4</span><span style=\"color: #000000; text-decoration-color: #000000; font-weight: bold\">]</span><span style=\"color: #000000; text-decoration-color: #000000\">, </span><span style=\"color: #008000; text-decoration-color: #008000\">'Field2'</span><span style=\"color: #000000; text-decoration-color: #000000\">: </span><span style=\"color: #000000; text-decoration-color: #000000; font-weight: bold\">[</span><span style=\"color: #008080; text-decoration-color: #008080; font-weight: bold\">0.7</span><span style=\"color: #000000; text-decoration-color: #000000\">, </span><span style=\"color: #008080; text-decoration-color: #008080; font-weight: bold\">1</span><span style=\"color: #000000; text-decoration-color: #000000\">, </span><span style=\"color: #008080; text-decoration-color: #008080; font-weight: bold\">0.1</span><span style=\"color: #000000; text-decoration-color: #000000\">, </span><span style=\"color: #008080; text-decoration-color: #008080; font-weight: bold\">0.4</span><span style=\"color: #000000; text-decoration-color: #000000; font-weight: bold\">]})</span>\n",
              "<span style=\"color: #800080; text-decoration-color: #800080; font-weight: bold\">print</span><span style=\"color: #000000; text-decoration-color: #000000; font-weight: bold\">(</span><span style=\"color: #000000; text-decoration-color: #000000\">df1</span><span style=\"color: #000000; text-decoration-color: #000000; font-weight: bold\">)</span>\n",
              "<span style=\"color: #000000; text-decoration-color: #000000\">#    Field1  Field2</span>\n",
              "<span style=\"color: #000000; text-decoration-color: #000000\"># </span><span style=\"color: #008080; text-decoration-color: #008080; font-weight: bold\">0</span><span style=\"color: #000000; text-decoration-color: #000000\">     </span><span style=\"color: #008080; text-decoration-color: #008080; font-weight: bold\">0.5</span><span style=\"color: #000000; text-decoration-color: #000000\">     </span><span style=\"color: #008080; text-decoration-color: #008080; font-weight: bold\">0.7</span>\n",
              "<span style=\"color: #000000; text-decoration-color: #000000\"># </span><span style=\"color: #008080; text-decoration-color: #008080; font-weight: bold\">1</span><span style=\"color: #000000; text-decoration-color: #000000\">     </span><span style=\"color: #008080; text-decoration-color: #008080; font-weight: bold\">2.0</span><span style=\"color: #000000; text-decoration-color: #000000\">     </span><span style=\"color: #008080; text-decoration-color: #008080; font-weight: bold\">1.0</span>\n",
              "<span style=\"color: #000000; text-decoration-color: #000000\"># </span><span style=\"color: #008080; text-decoration-color: #008080; font-weight: bold\">2</span><span style=\"color: #000000; text-decoration-color: #000000\">     </span><span style=\"color: #008080; text-decoration-color: #008080; font-weight: bold\">3.0</span><span style=\"color: #000000; text-decoration-color: #000000\">     </span><span style=\"color: #008080; text-decoration-color: #008080; font-weight: bold\">0.1</span>\n",
              "<span style=\"color: #000000; text-decoration-color: #000000\"># </span><span style=\"color: #008080; text-decoration-color: #008080; font-weight: bold\">3</span><span style=\"color: #000000; text-decoration-color: #000000\">     </span><span style=\"color: #008080; text-decoration-color: #008080; font-weight: bold\">4.0</span><span style=\"color: #000000; text-decoration-color: #000000\">     </span><span style=\"color: #008080; text-decoration-color: #008080; font-weight: bold\">0.4</span>\n",
              "\n",
              "<span style=\"color: #000000; text-decoration-color: #000000\">df2 = </span><span style=\"color: #800080; text-decoration-color: #800080; font-weight: bold\">pd.DataFrame</span><span style=\"color: #000000; text-decoration-color: #000000; font-weight: bold\">({</span><span style=\"color: #008000; text-decoration-color: #008000\">'Date'</span><span style=\"color: #000000; text-decoration-color: #000000\">: </span><span style=\"color: #000000; text-decoration-color: #000000; font-weight: bold\">[</span><span style=\"color: #008000; text-decoration-color: #008000\">'2022-08-01'</span><span style=\"color: #000000; text-decoration-color: #000000\">, </span><span style=\"color: #008000; text-decoration-color: #008000\">'2022-08-01'</span><span style=\"color: #000000; text-decoration-color: #000000; font-weight: bold\">]</span><span style=\"color: #000000; text-decoration-color: #000000\">, </span><span style=\"color: #008000; text-decoration-color: #008000\">'Time'</span><span style=\"color: #000000; text-decoration-color: #000000\">: </span><span style=\"color: #000000; text-decoration-color: #000000; font-weight: bold\">[</span><span style=\"color: #008080; text-decoration-color: #008080; font-weight: bold\">1</span><span style=\"color: #000000; text-decoration-color: #000000\">, </span><span style=\"color: #008080; text-decoration-color: #008080; font-weight: bold\">2</span><span style=\"color: #000000; text-decoration-color: #000000; font-weight: bold\">]})</span>\n",
              "<span style=\"color: #800080; text-decoration-color: #800080; font-weight: bold\">print</span><span style=\"color: #000000; text-decoration-color: #000000; font-weight: bold\">(</span><span style=\"color: #000000; text-decoration-color: #000000\">df2</span><span style=\"color: #000000; text-decoration-color: #000000; font-weight: bold\">)</span>\n",
              "<span style=\"color: #000000; text-decoration-color: #000000\">#          Date  Time</span>\n",
              "<span style=\"color: #000000; text-decoration-color: #000000\"># </span><span style=\"color: #008080; text-decoration-color: #008080; font-weight: bold\">0</span><span style=\"color: #000000; text-decoration-color: #000000\">  </span><span style=\"color: #008080; text-decoration-color: #008080; font-weight: bold\">2022</span><span style=\"color: #000000; text-decoration-color: #000000\">-</span><span style=\"color: #008080; text-decoration-color: #008080; font-weight: bold\">08</span><span style=\"color: #000000; text-decoration-color: #000000\">-</span><span style=\"color: #008080; text-decoration-color: #008080; font-weight: bold\">01</span><span style=\"color: #000000; text-decoration-color: #000000\">     </span><span style=\"color: #008080; text-decoration-color: #008080; font-weight: bold\">1</span>\n",
              "<span style=\"color: #000000; text-decoration-color: #000000\"># </span><span style=\"color: #008080; text-decoration-color: #008080; font-weight: bold\">1</span><span style=\"color: #000000; text-decoration-color: #000000\">  </span><span style=\"color: #008080; text-decoration-color: #008080; font-weight: bold\">2022</span><span style=\"color: #000000; text-decoration-color: #000000\">-</span><span style=\"color: #008080; text-decoration-color: #008080; font-weight: bold\">08</span><span style=\"color: #000000; text-decoration-color: #000000\">-</span><span style=\"color: #008080; text-decoration-color: #008080; font-weight: bold\">01</span><span style=\"color: #000000; text-decoration-color: #000000\">     </span><span style=\"color: #008080; text-decoration-color: #008080; font-weight: bold\">2</span>\n",
              "\n",
              "<span style=\"color: #000000; text-decoration-color: #000000\">n = </span><span style=\"color: #800080; text-decoration-color: #800080; font-weight: bold\">int</span><span style=\"color: #000000; text-decoration-color: #000000; font-weight: bold\">(</span><span style=\"color: #000000; text-decoration-color: #000000\">df1.size </span><span style=\"color: #800080; text-decoration-color: #800080\">/</span><span style=\"color: #000000; text-decoration-color: #000000\"> df2.size</span><span style=\"color: #000000; text-decoration-color: #000000; font-weight: bold\">)</span>\n",
              "<span style=\"color: #000000; text-decoration-color: #000000\">df3 = </span><span style=\"color: #800080; text-decoration-color: #800080; font-weight: bold\">pd.concat</span><span style=\"color: #000000; text-decoration-color: #000000; font-weight: bold\">(</span><span style=\"color: #000000; text-decoration-color: #000000\"> * n, </span><span style=\"color: #808000; text-decoration-color: #808000\">axis</span><span style=\"color: #000000; text-decoration-color: #000000\">=</span><span style=\"color: #008080; text-decoration-color: #008080; font-weight: bold\">0</span><span style=\"color: #000000; text-decoration-color: #000000; font-weight: bold\">)</span><span style=\"color: #800080; text-decoration-color: #800080; font-weight: bold\">.reset_index</span><span style=\"color: #000000; text-decoration-color: #000000; font-weight: bold\">(</span><span style=\"color: #808000; text-decoration-color: #808000\">drop</span><span style=\"color: #000000; text-decoration-color: #000000\">=</span><span style=\"color: #00ff00; text-decoration-color: #00ff00; font-style: italic\">True</span><span style=\"color: #000000; text-decoration-color: #000000; font-weight: bold\">)</span>\n",
              "<span style=\"color: #800080; text-decoration-color: #800080; font-weight: bold\">print</span><span style=\"color: #000000; text-decoration-color: #000000; font-weight: bold\">(</span><span style=\"color: #000000; text-decoration-color: #000000\">df3</span><span style=\"color: #000000; text-decoration-color: #000000; font-weight: bold\">)</span>\n",
              "<span style=\"color: #000000; text-decoration-color: #000000\">#          Date  Time</span>\n",
              "<span style=\"color: #000000; text-decoration-color: #000000\"># </span><span style=\"color: #008080; text-decoration-color: #008080; font-weight: bold\">0</span><span style=\"color: #000000; text-decoration-color: #000000\">  </span><span style=\"color: #008080; text-decoration-color: #008080; font-weight: bold\">2022</span><span style=\"color: #000000; text-decoration-color: #000000\">-</span><span style=\"color: #008080; text-decoration-color: #008080; font-weight: bold\">08</span><span style=\"color: #000000; text-decoration-color: #000000\">-</span><span style=\"color: #008080; text-decoration-color: #008080; font-weight: bold\">01</span><span style=\"color: #000000; text-decoration-color: #000000\">     </span><span style=\"color: #008080; text-decoration-color: #008080; font-weight: bold\">1</span>\n",
              "<span style=\"color: #000000; text-decoration-color: #000000\"># </span><span style=\"color: #008080; text-decoration-color: #008080; font-weight: bold\">1</span><span style=\"color: #000000; text-decoration-color: #000000\">  </span><span style=\"color: #008080; text-decoration-color: #008080; font-weight: bold\">2022</span><span style=\"color: #000000; text-decoration-color: #000000\">-</span><span style=\"color: #008080; text-decoration-color: #008080; font-weight: bold\">08</span><span style=\"color: #000000; text-decoration-color: #000000\">-</span><span style=\"color: #008080; text-decoration-color: #008080; font-weight: bold\">01</span><span style=\"color: #000000; text-decoration-color: #000000\">     </span><span style=\"color: #008080; text-decoration-color: #008080; font-weight: bold\">2</span>\n",
              "<span style=\"color: #000000; text-decoration-color: #000000\"># </span><span style=\"color: #008080; text-decoration-color: #008080; font-weight: bold\">2</span><span style=\"color: #000000; text-decoration-color: #000000\">  </span><span style=\"color: #008080; text-decoration-color: #008080; font-weight: bold\">2022</span><span style=\"color: #000000; text-decoration-color: #000000\">-</span><span style=\"color: #008080; text-decoration-color: #008080; font-weight: bold\">08</span><span style=\"color: #000000; text-decoration-color: #000000\">-</span><span style=\"color: #008080; text-decoration-color: #008080; font-weight: bold\">01</span><span style=\"color: #000000; text-decoration-color: #000000\">     </span><span style=\"color: #008080; text-decoration-color: #008080; font-weight: bold\">1</span>\n",
              "<span style=\"color: #000000; text-decoration-color: #000000\"># </span><span style=\"color: #008080; text-decoration-color: #008080; font-weight: bold\">3</span><span style=\"color: #000000; text-decoration-color: #000000\">  </span><span style=\"color: #008080; text-decoration-color: #008080; font-weight: bold\">2022</span><span style=\"color: #000000; text-decoration-color: #000000\">-</span><span style=\"color: #008080; text-decoration-color: #008080; font-weight: bold\">08</span><span style=\"color: #000000; text-decoration-color: #000000\">-</span><span style=\"color: #008080; text-decoration-color: #008080; font-weight: bold\">01</span><span style=\"color: #000000; text-decoration-color: #000000\">     </span><span style=\"color: #008080; text-decoration-color: #008080; font-weight: bold\">2</span>\n",
              "\n",
              "<span style=\"color: #000000; text-decoration-color: #000000\">df4 = </span><span style=\"color: #800080; text-decoration-color: #800080; font-weight: bold\">pd.concat</span><span style=\"color: #000000; text-decoration-color: #000000; font-weight: bold\">(</span><span style=\"color: #000000; text-decoration-color: #000000\">, </span><span style=\"color: #808000; text-decoration-color: #808000\">axis</span><span style=\"color: #000000; text-decoration-color: #000000\">=</span><span style=\"color: #008080; text-decoration-color: #008080; font-weight: bold\">1</span><span style=\"color: #000000; text-decoration-color: #000000; font-weight: bold\">)</span>\n",
              "<span style=\"color: #800080; text-decoration-color: #800080; font-weight: bold\">print</span><span style=\"color: #000000; text-decoration-color: #000000; font-weight: bold\">(</span><span style=\"color: #000000; text-decoration-color: #000000\">df4</span><span style=\"color: #000000; text-decoration-color: #000000; font-weight: bold\">)</span>\n",
              "<span style=\"color: #000000; text-decoration-color: #000000\">#    Field1  Field2        Date  Time</span>\n",
              "<span style=\"color: #000000; text-decoration-color: #000000\"># </span><span style=\"color: #008080; text-decoration-color: #008080; font-weight: bold\">0</span><span style=\"color: #000000; text-decoration-color: #000000\">     </span><span style=\"color: #008080; text-decoration-color: #008080; font-weight: bold\">0.5</span><span style=\"color: #000000; text-decoration-color: #000000\">     </span><span style=\"color: #008080; text-decoration-color: #008080; font-weight: bold\">0.7</span><span style=\"color: #000000; text-decoration-color: #000000\">  </span><span style=\"color: #008080; text-decoration-color: #008080; font-weight: bold\">2022</span><span style=\"color: #000000; text-decoration-color: #000000\">-</span><span style=\"color: #008080; text-decoration-color: #008080; font-weight: bold\">08</span><span style=\"color: #000000; text-decoration-color: #000000\">-</span><span style=\"color: #008080; text-decoration-color: #008080; font-weight: bold\">01</span><span style=\"color: #000000; text-decoration-color: #000000\">     </span><span style=\"color: #008080; text-decoration-color: #008080; font-weight: bold\">1</span>\n",
              "<span style=\"color: #000000; text-decoration-color: #000000\"># </span><span style=\"color: #008080; text-decoration-color: #008080; font-weight: bold\">1</span><span style=\"color: #000000; text-decoration-color: #000000\">     </span><span style=\"color: #008080; text-decoration-color: #008080; font-weight: bold\">2.0</span><span style=\"color: #000000; text-decoration-color: #000000\">     </span><span style=\"color: #008080; text-decoration-color: #008080; font-weight: bold\">1.0</span><span style=\"color: #000000; text-decoration-color: #000000\">  </span><span style=\"color: #008080; text-decoration-color: #008080; font-weight: bold\">2022</span><span style=\"color: #000000; text-decoration-color: #000000\">-</span><span style=\"color: #008080; text-decoration-color: #008080; font-weight: bold\">08</span><span style=\"color: #000000; text-decoration-color: #000000\">-</span><span style=\"color: #008080; text-decoration-color: #008080; font-weight: bold\">01</span><span style=\"color: #000000; text-decoration-color: #000000\">     </span><span style=\"color: #008080; text-decoration-color: #008080; font-weight: bold\">2</span>\n",
              "<span style=\"color: #000000; text-decoration-color: #000000\"># </span><span style=\"color: #008080; text-decoration-color: #008080; font-weight: bold\">2</span><span style=\"color: #000000; text-decoration-color: #000000\">     </span><span style=\"color: #008080; text-decoration-color: #008080; font-weight: bold\">3.0</span><span style=\"color: #000000; text-decoration-color: #000000\">     </span><span style=\"color: #008080; text-decoration-color: #008080; font-weight: bold\">0.1</span><span style=\"color: #000000; text-decoration-color: #000000\">  </span><span style=\"color: #008080; text-decoration-color: #008080; font-weight: bold\">2022</span><span style=\"color: #000000; text-decoration-color: #000000\">-</span><span style=\"color: #008080; text-decoration-color: #008080; font-weight: bold\">08</span><span style=\"color: #000000; text-decoration-color: #000000\">-</span><span style=\"color: #008080; text-decoration-color: #008080; font-weight: bold\">01</span><span style=\"color: #000000; text-decoration-color: #000000\">     </span><span style=\"color: #008080; text-decoration-color: #008080; font-weight: bold\">1</span>\n",
              "<span style=\"color: #000000; text-decoration-color: #000000\"># </span><span style=\"color: #008080; text-decoration-color: #008080; font-weight: bold\">3</span><span style=\"color: #000000; text-decoration-color: #000000\">     </span><span style=\"color: #008080; text-decoration-color: #008080; font-weight: bold\">4.0</span><span style=\"color: #000000; text-decoration-color: #000000\">     </span><span style=\"color: #008080; text-decoration-color: #008080; font-weight: bold\">0.4</span><span style=\"color: #000000; text-decoration-color: #000000\">  </span><span style=\"color: #008080; text-decoration-color: #008080; font-weight: bold\">2022</span><span style=\"color: #000000; text-decoration-color: #000000\">-</span><span style=\"color: #008080; text-decoration-color: #008080; font-weight: bold\">08</span><span style=\"color: #000000; text-decoration-color: #000000\">-</span><span style=\"color: #008080; text-decoration-color: #008080; font-weight: bold\">01</span><span style=\"color: #000000; text-decoration-color: #000000\">     </span><span style=\"color: #008080; text-decoration-color: #008080; font-weight: bold\">2</span>\n",
              "<span style=\"color: #000000; text-decoration-color: #000000\">&lt;</span><span style=\"color: #800080; text-decoration-color: #800080\">/</span><span style=\"color: #ff00ff; text-decoration-color: #ff00ff\">code</span><span style=\"color: #000000; text-decoration-color: #000000\">&gt;&lt;</span><span style=\"color: #800080; text-decoration-color: #800080\">/</span><span style=\"color: #ff00ff; text-decoration-color: #ff00ff\">pre</span><span style=\"color: #000000; text-decoration-color: #000000\">&gt;</span>\n",
              "<span style=\"color: #000000; text-decoration-color: #000000\">&lt;p&gt;or shorter:&lt;</span><span style=\"color: #800080; text-decoration-color: #800080\">/</span><span style=\"color: #ff00ff; text-decoration-color: #ff00ff\">p</span><span style=\"color: #000000; text-decoration-color: #000000\">&gt;</span>\n",
              "<span style=\"color: #000000; text-decoration-color: #000000\">&lt;pre </span><span style=\"color: #808000; text-decoration-color: #808000\">class</span><span style=\"color: #000000; text-decoration-color: #000000\">=</span><span style=\"color: #008000; text-decoration-color: #008000\">\"lang-py prettyprint-override\"</span><span style=\"color: #000000; text-decoration-color: #000000\">&gt;&lt;code&gt;df4 = </span><span style=\"color: #800080; text-decoration-color: #800080; font-weight: bold\">pd.concat</span><span style=\"color: #000000; text-decoration-color: #000000; font-weight: bold\">([</span>\n",
              "<span style=\"color: #000000; text-decoration-color: #000000\">    df1,</span>\n",
              "<span style=\"color: #000000; text-decoration-color: #000000\">    </span><span style=\"color: #800080; text-decoration-color: #800080; font-weight: bold\">pd.concat</span><span style=\"color: #000000; text-decoration-color: #000000; font-weight: bold\">(</span>\n",
              "<span style=\"color: #000000; text-decoration-color: #000000\">         * </span><span style=\"color: #800080; text-decoration-color: #800080; font-weight: bold\">int</span><span style=\"color: #000000; text-decoration-color: #000000; font-weight: bold\">(</span><span style=\"color: #000000; text-decoration-color: #000000\">df1.size </span><span style=\"color: #800080; text-decoration-color: #800080\">/</span><span style=\"color: #000000; text-decoration-color: #000000\"> df2.size</span><span style=\"color: #000000; text-decoration-color: #000000; font-weight: bold\">)</span><span style=\"color: #000000; text-decoration-color: #000000\">,</span>\n",
              "<span style=\"color: #000000; text-decoration-color: #000000\">        </span><span style=\"color: #808000; text-decoration-color: #808000\">axis</span><span style=\"color: #000000; text-decoration-color: #000000\">=</span><span style=\"color: #008080; text-decoration-color: #008080; font-weight: bold\">0</span>\n",
              "<span style=\"color: #000000; text-decoration-color: #000000\">    </span><span style=\"color: #000000; text-decoration-color: #000000; font-weight: bold\">)</span><span style=\"color: #800080; text-decoration-color: #800080; font-weight: bold\">.reset_index</span><span style=\"color: #000000; text-decoration-color: #000000; font-weight: bold\">(</span><span style=\"color: #808000; text-decoration-color: #808000\">drop</span><span style=\"color: #000000; text-decoration-color: #000000\">=</span><span style=\"color: #00ff00; text-decoration-color: #00ff00; font-style: italic\">True</span><span style=\"color: #000000; text-decoration-color: #000000; font-weight: bold\">)</span>\n",
              "<span style=\"color: #000000; text-decoration-color: #000000; font-weight: bold\">]</span><span style=\"color: #000000; text-decoration-color: #000000\">, </span><span style=\"color: #808000; text-decoration-color: #808000\">axis</span><span style=\"color: #000000; text-decoration-color: #000000\">=</span><span style=\"color: #008080; text-decoration-color: #008080; font-weight: bold\">1</span><span style=\"color: #000000; text-decoration-color: #000000; font-weight: bold\">)</span>\n",
              "<span style=\"color: #000000; text-decoration-color: #000000\">&lt;</span><span style=\"color: #800080; text-decoration-color: #800080\">/</span><span style=\"color: #ff00ff; text-decoration-color: #ff00ff\">code</span><span style=\"color: #000000; text-decoration-color: #000000\">&gt;&lt;</span><span style=\"color: #800080; text-decoration-color: #800080\">/</span><span style=\"color: #ff00ff; text-decoration-color: #ff00ff\">pre</span><span style=\"font-weight: bold\">&gt;</span>\n",
              "</pre>\n"
            ]
          },
          "metadata": {}
        }
      ]
    },
    {
      "cell_type": "code",
      "source": [
        "from vertexai.generative_models import GenerativeModel, Part\n",
        "model = GenerativeModel(model_name=\"gemini-1.5-flash-001\")"
      ],
      "metadata": {
        "id": "-n4c_m7Jhv3R"
      },
      "execution_count": null,
      "outputs": []
    },
    {
      "cell_type": "code",
      "source": [
        "context = \"Question: \" + so_df.input_text[index_doc_cosine] +\\\n",
        "\"\\n Answer: \" + so_df.output_text[index_doc_cosine]"
      ],
      "metadata": {
        "id": "F25bdcJqi-Nf"
      },
      "execution_count": null,
      "outputs": []
    },
    {
      "cell_type": "code",
      "source": [
        "prompt = f\"\"\"Here is the context: {context}\n",
        "             Using the relevant information from the context,\n",
        "             provide an answer to the query: {query}.\"\n",
        "             If the context doesn't provide \\\n",
        "             any relevant information, \\\n",
        "             answer with \\\n",
        "             [I couldn't find a good match in the \\\n",
        "             document database for your query]\n",
        "             \"\"\""
      ],
      "metadata": {
        "id": "5lBlALcCjDTD"
      },
      "execution_count": null,
      "outputs": []
    },
    {
      "cell_type": "code",
      "source": [
        "response = model.generate_content([prompt])\n",
        "print(response.text)"
      ],
      "metadata": {
        "colab": {
          "base_uri": "https://localhost:8080/"
        },
        "id": "vZFBVC-vi60B",
        "outputId": "36bf5027-6fa5-41fa-bc46-aec64cd0b193"
      },
      "execution_count": null,
      "outputs": [
        {
          "output_type": "stream",
          "name": "stdout",
          "text": [
            "The context provides a clear and concise explanation of how to concatenate two dataframes in pandas, specifically focusing on repeating values from the smaller dataframe to match the dimensions of the larger one. \n",
            "\n",
            "Here's a breakdown of the method presented:\n",
            "\n",
            "1. **Create the DataFrames:** The code snippet initializes two dataframes, `df1` and `df2`, representing the example data provided in the question.\n",
            "\n",
            "2. **Calculate Repetition Factor:** The code determines how many times the smaller dataframe (`df2`) needs to be repeated to match the size of the larger dataframe (`df1`). This is done by dividing the size of `df1` (number of elements) by the size of `df2`.\n",
            "\n",
            "3. **Repeat and Reset Index:** The `pd.concat()` function is used to concatenate multiple copies of `df2`, the number of copies being determined by the repetition factor. The `reset_index(drop=True)` method ensures that the resulting dataframe has a continuous index.\n",
            "\n",
            "4. **Concatenate Along Columns:** Finally, `pd.concat()` is used again to join the original dataframe `df1` with the expanded version of `df2`, this time along the columns (`axis=1`).\n",
            "\n",
            "The code provides two ways to achieve the concatenation, with the second version being more compact and efficient.\n",
            "\n",
            "**In summary, the context demonstrates how to achieve the following:**\n",
            "\n",
            "* **Concatenate DataFrames:**  The `pd.concat()` function is the primary tool for combining DataFrames in pandas.\n",
            "* **Handle Size Mismatches:** When concatenating DataFrames with different sizes, the code illustrates how to repeat the smaller dataframe to match the dimensions of the larger one.\n",
            "* **Control Concatenation Axis:** The `axis` parameter in `pd.concat()` allows you to concatenate either along rows (axis=0, default) or columns (axis=1).\n",
            "\n",
            "The example provided in the context provides a valuable illustration of how to concatenate DataFrames in a practical scenario where you need to repeat elements from one DataFrame to align with another. \n",
            "\n"
          ]
        }
      ]
    },
    {
      "cell_type": "code",
      "source": [
        "#create a function for downloading file with python\n"
      ],
      "metadata": {
        "id": "Ey4WuDb_f7l8"
      },
      "execution_count": null,
      "outputs": []
    }
  ]
}